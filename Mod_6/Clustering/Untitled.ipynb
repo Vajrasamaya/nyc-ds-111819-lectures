{
 "cells": [
  {
   "cell_type": "code",
   "execution_count": 1,
   "metadata": {},
   "outputs": [],
   "source": [
    "from sklearn.datasets import make_blobs\n",
    "from sklearn.datasets import make_moons\n",
    "from sklearn.cluster import AgglomerativeClustering\n",
    "from sklearn.neighbors import KernelDensity\n",
    "import matplotlib.pyplot as plt\n",
    "import numpy as np\n",
    "np.random.seed(0)\n",
    "import pandas as pd\n",
    "%matplotlib inline  "
   ]
  },
  {
   "cell_type": "code",
   "execution_count": 4,
   "metadata": {},
   "outputs": [
    {
     "name": "stderr",
     "output_type": "stream",
     "text": [
      "/opt/anaconda3/lib/python3.7/site-packages/ipykernel_launcher.py:1: DeprecationWarning: This function is deprecated. Please call randint(1, 100 + 1) instead\n",
      "  \"\"\"Entry point for launching an IPython kernel.\n"
     ]
    },
    {
     "data": {
      "text/plain": [
       "array([ 45,  48,  65,  68,  68,  10,  84,  22,  37,  88,  71,  89,  89,\n",
       "        13,  59,  66,  40,  88,  47,  89,  82,  38,  26,  78,  73,  10,\n",
       "        21,  81,  70,  80,  48,  65,  83, 100,  89,  50,  30,  20,  20,\n",
       "        15,  40,  33,  66,  10,  58,  33,  32,  75,  24,  36,  76,  56,\n",
       "        29,  35,   1,   1,  37,  54,   6,  39,  18,  80,   5,  43,  59,\n",
       "        32,   2,  66,  42,  58,  36,  12,  47,  83,  92,   1,  15, 100,\n",
       "        54,  13,  43,  85,  76,  69,   7,  69,  48,   4,  77,  53,  79,\n",
       "        16,  21, 100,  59,  24,  80,  14,  86,  49])"
      ]
     },
     "execution_count": 4,
     "metadata": {},
     "output_type": "execute_result"
    }
   ],
   "source": [
    "candidates = np.random.random_integers(1, 100, 100)\n",
    "candidates"
   ]
  },
  {
   "cell_type": "code",
   "execution_count": null,
   "metadata": {},
   "outputs": [],
   "source": []
  },
  {
   "cell_type": "code",
   "execution_count": null,
   "metadata": {},
   "outputs": [],
   "source": []
  },
  {
   "cell_type": "code",
   "execution_count": null,
   "metadata": {},
   "outputs": [],
   "source": []
  }
 ],
 "metadata": {
  "kernelspec": {
   "display_name": "Python 3",
   "language": "python",
   "name": "python3"
  },
  "language_info": {
   "codemirror_mode": {
    "name": "ipython",
    "version": 3
   },
   "file_extension": ".py",
   "mimetype": "text/x-python",
   "name": "python",
   "nbconvert_exporter": "python",
   "pygments_lexer": "ipython3",
   "version": "3.7.4"
  }
 },
 "nbformat": 4,
 "nbformat_minor": 2
}
