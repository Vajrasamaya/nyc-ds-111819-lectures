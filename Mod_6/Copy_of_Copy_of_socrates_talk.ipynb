{
 "cells": [
  {
   "cell_type": "markdown",
   "metadata": {
    "colab_type": "text",
    "id": "IOxYLbRmwxPW"
   },
   "source": [
    "# From Socrates to Siri\n",
    "Don't worry, you're in the right place! We are going to use modern data science tools and machine learning to look at virtues in the dialogue Crito. When we meet tomorrow, all our code will be uploaded here for us to walk through together.\n",
    "\n",
    "\n",
    "You don't have to have a background in coding, data science, or understand all of the code we write, just be curious!\n",
    "\n",
    "This is where we will be coding during the workshop. See you soon!\n",
    "\n",
    "To run the code click open in playground!"
   ]
  },
  {
   "cell_type": "code",
   "execution_count": 0,
   "metadata": {
    "colab": {},
    "colab_type": "code",
    "id": "BbhXYaGU9R-T"
   },
   "outputs": [],
   "source": [
    "# we are going to 'run' this cell to import the python libraries we will use\n",
    "from collections import Counter\n",
    "import matplotlib.pyplot as plt\n",
    "import pandas as pd\n",
    "import requests\n",
    "import re"
   ]
  },
  {
   "cell_type": "markdown",
   "metadata": {
    "colab_type": "text",
    "id": "bxYAmr7k9ayk"
   },
   "source": [
    "#Now let's take a look at Crito\n",
    "We are starting with a small text (a single dialogue), but the same principles apply for large datasets."
   ]
  },
  {
   "cell_type": "code",
   "execution_count": 0,
   "metadata": {
    "colab": {
     "base_uri": "https://localhost:8080/",
     "height": 54
    },
    "colab_type": "code",
    "id": "m32irwtE9Xmf",
    "outputId": "232ac290-7390-423f-cfff-e2fd3acc097e"
   },
   "outputs": [
    {
     "data": {
      "text/plain": [
       "\"SOCRATES:  Why have you come at this hour, Crito? it must be quite early.\\r\\n\\r\\nCRITO:  Yes, certainly.\\r\\n\\r\\nSOCRATES:  What is the exact time?\\r\\n\\r\\nCRITO:  The dawn is breaking.\\r\\n\\r\\nSOCRATES:  I wonder that the keeper of the prison would let you in.\\r\\n\\r\\nCRITO:  He knows me because I often come, Socrates; moreover.  I have done\\r\\nhim a kindness.\\r\\n\\r\\nSOCRATES:  And are you only just arrived?\\r\\n\\r\\nCRITO:  No, I came some time ago.\\r\\n\\r\\nSOCRATES:  Then why did you sit and say nothing, instead of at once\\r\\nawakening me?\\r\\n\\r\\nCRITO:  I should not have liked myself, Socrates, to be in such great\\r\\ntrouble and unrest as you are--indeed I should not:  I have been watching\\r\\nwith amazement your peaceful slumbers; and for that reason I did not awake\\r\\nyou, because I wished to minimize the pain.  I have always thought you to\\r\\nbe of a happy disposition; but never did I see anything like the easy,\\r\\ntranquil manner in which you bear this calamity.\\r\\n\\r\\nSOCRATES:  Why, Crito, when a man has reached my age he ought not to be\\r\\nrepining at the approach of death.\\r\\n\\r\\nCRITO:  And yet other old men find themselves in similar misfortunes, and\\r\\nage does not prevent them from repining.\\r\\n\\r\\nSOCRATES:  That is true.  But you have not told me why you come at this\\r\\nearly hour.\\r\\n\\r\\nCRITO:  I come to bring you a message which is sad and painful; not, as I\\r\\nbelieve, to yourself, but to all of us who are your friends, and saddest of\\r\\nall to me.\\r\\n\\r\\nSOCRATES:  What?  Has the ship come from Delos, on the arrival of which I\\r\\nam to die?\\r\\n\\r\\nCRITO:  No, the ship has not actually arrived, but she will probably be\\r\\nhere to-day, as persons who have come from Sunium tell me that they have\\r\\nleft her there; and therefore to-morrow, Socrates, will be the last day of\\r\\nyour life.\\r\\n\\r\\nSOCRATES:  Very well, Crito; if such is the will of God, I am willing; but\\r\\nmy belief is that there will be a delay of a day.\\r\\n\\r\\nCRITO:  Why do you think so?\\r\\n\\r\\nSOCRATES:  I will tell you.  I am to die on the day after the arrival of\\r\\nthe ship?\\r\\n\\r\\nCRITO:  Yes; that is what the authorities say.\\r\\n\\r\\nSOCRATES:  But I do not think that the ship will be here until to-morrow;\\r\\nthis I infer from a vision which I had last night, or rather only just now,\\r\\nwhen you fortunately allowed me to sleep.\\r\\n\\r\\nCRITO:  And what was the nature of the vision?\\r\\n\\r\\nSOCRATES:  There appeared to me the likeness of a woman, fair and comely,\\r\\nclothed in bright raiment, who called to me and said:  O Socrates,\\r\\n\\r\\n'The third day hence to fertile Phthia shalt thou go.'  (Homer, Il.)\\r\\n\\r\\nCRITO:  What a singular dream, Socrates!\\r\\n\\r\\nSOCRATES:  There can be no doubt about the meaning, Crito, I think.\\r\\n\\r\\nCRITO:  Yes; the meaning is only too clear.  But, oh! my beloved Socrates,\\r\\nlet me entreat you once more to take my advice and escape.  For if you die\\r\\nI shall not only lose a friend who can never be replaced, but there is\\r\\nanother evil:  people who do not know you and me will believe that I might\\r\\nhave saved you if I had been willing to give money, but that I did not\\r\\ncare.  Now, can there be a worse disgrace than this--that I should be\\r\\nthought to value money more than the life of a friend?  For the many will\\r\\nnot be persuaded that I wanted you to escape, and that you refused.\\r\\n\\r\\nSOCRATES:  But why, my dear Crito, should we care about the opinion of the\\r\\nmany?  Good men, and they are the only persons who are worth considering,\\r\\nwill think of these things truly as they occurred.\\r\\n\\r\\nCRITO:  But you see, Socrates, that the opinion of the many must be\\r\\nregarded, for what is now happening shows that they can do the greatest\\r\\nevil to any one who has lost their good opinion.\\r\\n\\r\\nSOCRATES:  I only wish it were so, Crito; and that the many could do the\\r\\ngreatest evil; for then they would also be able to do the greatest good--\\r\\nand what a fine thing this would be!  But in reality they can do neither;\\r\\nfor they cannot make a man either wise or foolish; and whatever they do is\\r\\nthe result of chance.\\r\\n\\r\\nCRITO:  Well, I will not dispute with you; but please to tell me, Socrates,\\r\\nwhether you are not acting out of regard to me and your other friends:  are\\r\\nyou not afraid that if you escape from prison we may get into trouble with\\r\\nthe informers for having stolen you away, and lose either the whole or a\\r\\ngreat part of our property; or that even a worse evil may happen to us?\\r\\nNow, if you fear on our account, be at ease; for in order to save you, we\\r\\nought surely to run this, or even a greater risk; be persuaded, then, and\\r\\ndo as I say.\\r\\n\\r\\nSOCRATES:  Yes, Crito, that is one fear which you mention, but by no means\\r\\nthe only one.\\r\\n\\r\\nCRITO:  Fear not--there are persons who are willing to get you out of\\r\\nprison at no great cost; and as for the informers they are far from being\\r\\nexorbitant in their demands--a little money will satisfy them.  My means,\\r\\nwhich are certainly ample, are at your service, and if you have a scruple\\r\\nabout spending all mine, here are strangers who will give you the use of\\r\\ntheirs; and one of them, Simmias the Theban, has brought a large sum of\\r\\nmoney for this very purpose; and Cebes and many others are prepared to\\r\\nspend their money in helping you to escape.  I say, therefore, do not\\r\\nhesitate on our account, and do not say, as you did in the court (compare\\r\\nApol.), that you will have a difficulty in knowing what to do with yourself\\r\\nanywhere else.  For men will love you in other places to which you may go,\\r\\nand not in Athens only; there are friends of mine in Thessaly, if you like\\r\\nto go to them, who will value and protect you, and no Thessalian will give\\r\\nyou any trouble.  Nor can I think that you are at all justified, Socrates,\\r\\nin betraying your own life when you might be saved; in acting thus you are\\r\\nplaying into the hands of your enemies, who are hurrying on your\\r\\ndestruction.  And further I should say that you are deserting your own\\r\\nchildren; for you might bring them up and educate them; instead of which\\r\\nyou go away and leave them, and they will have to take their chance; and if\\r\\nthey do not meet with the usual fate of orphans, there will be small thanks\\r\\nto you.  No man should bring children into the world who is unwilling to\\r\\npersevere to the end in their nurture and education.  But you appear to be\\r\\nchoosing the easier part, not the better and manlier, which would have been\\r\\nmore becoming in one who professes to care for virtue in all his actions,\\r\\nlike yourself.  And indeed, I am ashamed not only of you, but of us who are\\r\\nyour friends, when I reflect that the whole business will be attributed\\r\\nentirely to our want of courage.  The trial need never have come on, or\\r\\nmight have been managed differently; and this last act, or crowning folly,\\r\\nwill seem to have occurred through our negligence and cowardice, who might\\r\\nhave saved you, if we had been good for anything; and you might have saved\\r\\nyourself, for there was no difficulty at all.  See now, Socrates, how sad\\r\\nand discreditable are the consequences, both to us and you.  Make up your\\r\\nmind then, or rather have your mind already made up, for the time of\\r\\ndeliberation is over, and there is only one thing to be done, which must be\\r\\ndone this very night, and if we delay at all will be no longer practicable\\r\\nor possible; I beseech you therefore, Socrates, be persuaded by me, and do\\r\\nas I say.\\r\\n\\r\\nSOCRATES:  Dear Crito, your zeal is invaluable, if a right one; but if\\r\\nwrong, the greater the zeal the greater the danger; and therefore we ought\\r\\nto consider whether I shall or shall not do as you say.  For I am and\\r\\nalways have been one of those natures who must be guided by reason,\\r\\nwhatever the reason may be which upon reflection appears to me to be the\\r\\nbest; and now that this chance has befallen me, I cannot repudiate my own\\r\\nwords:  the principles which I have hitherto honoured and revered I still\\r\\nhonour, and unless we can at once find other and better principles, I am\\r\\ncertain not to agree with you; no, not even if the power of the multitude\\r\\ncould inflict many more imprisonments, confiscations, deaths, frightening\\r\\nus like children with hobgoblin terrors (compare Apol.).  What will be the\\r\\nfairest way of considering the question?  Shall I return to your old\\r\\nargument about the opinions of men?--we were saying that some of them are\\r\\nto be regarded, and others not.  Now were we right in maintaining this\\r\\nbefore I was condemned?  And has the argument which was once good now\\r\\nproved to be talk for the sake of talking--mere childish nonsense?  That is\\r\\nwhat I want to consider with your help, Crito:--whether, under my present\\r\\ncircumstances, the argument appears to be in any way different or not; and\\r\\nis to be allowed by me or disallowed.  That argument, which, as I believe,\\r\\nis maintained by many persons of authority, was to the effect, as I was\\r\\nsaying, that the opinions of some men are to be regarded, and of other men\\r\\nnot to be regarded.  Now you, Crito, are not going to die to-morrow--at\\r\\nleast, there is no human probability of this, and therefore you are\\r\\ndisinterested and not liable to be deceived by the circumstances in which\\r\\nyou are placed.  Tell me then, whether I am right in saying that some\\r\\nopinions, and the opinions of some men only, are to be valued, and that\\r\\nother opinions, and the opinions of other men, are not to be valued.  I ask\\r\\nyou whether I was right in maintaining this?\\r\\n\\r\\nCRITO:  Certainly.\\r\\n\\r\\nSOCRATES:  The good are to be regarded, and not the bad?\\r\\n\\r\\nCRITO:  Yes.\\r\\n\\r\\nSOCRATES:  And the opinions of the wise are good, and the opinions of the\\r\\nunwise are evil?\\r\\n\\r\\nCRITO:  Certainly.\\r\\n\\r\\nSOCRATES:  And what was said about another matter?  Is the pupil who\\r\\ndevotes himself to the practice of gymnastics supposed to attend to the\\r\\npraise and blame and opinion of every man, or of one man only--his\\r\\nphysician or trainer, whoever he may be?\\r\\n\\r\\nCRITO:  Of one man only.\\r\\n\\r\\nSOCRATES:  And he ought to fear the censure and welcome the praise of that\\r\\none only, and not of the many?\\r\\n\\r\\nCRITO:  Clearly so.\\r\\n\\r\\nSOCRATES:  And he ought to act and train, and eat and drink in the way\\r\\nwhich seems good to his single master who has understanding, rather than\\r\\naccording to the opinion of all other men put together?\\r\\n\\r\\nCRITO:  True.\\r\\n\\r\\nSOCRATES:  And if he disobeys and disregards the opinion and approval of\\r\\nthe one, and regards the opinion of the many who have no understanding,\\r\\nwill he not suffer evil?\\r\\n\\r\\nCRITO:  Certainly he will.\\r\\n\\r\\nSOCRATES:  And what will the evil be, whither tending and what affecting,\\r\\nin the disobedient person?\\r\\n\\r\\nCRITO:  Clearly, affecting the body; that is what is destroyed by the evil.\\r\\n\\r\\nSOCRATES:  Very good; and is not this true, Crito, of other things which we\\r\\nneed not separately enumerate?  In questions of just and unjust, fair and\\r\\nfoul, good and evil, which are the subjects of our present consultation,\\r\\nought we to follow the opinion of the many and to fear them; or the opinion\\r\\nof the one man who has understanding? ought we not to fear and reverence\\r\\nhim more than all the rest of the world:  and if we desert him shall we not\\r\\ndestroy and injure that principle in us which may be assumed to be improved\\r\\nby justice and deteriorated by injustice;--there is such a principle?\\r\\n\\r\\nCRITO:  Certainly there is, Socrates.\\r\\n\\r\\nSOCRATES:  Take a parallel instance:--if, acting under the advice of those\\r\\nwho have no understanding, we destroy that which is improved by health and\\r\\nis deteriorated by disease, would life be worth having?  And that which has\\r\\nbeen destroyed is--the body?\\r\\n\\r\\nCRITO:  Yes.\\r\\n\\r\\nSOCRATES:  Could we live, having an evil and corrupted body?\\r\\n\\r\\nCRITO:  Certainly not.\\r\\n\\r\\nSOCRATES:  And will life be worth having, if that higher part of man be\\r\\ndestroyed, which is improved by justice and depraved by injustice?  Do we\\r\\nsuppose that principle, whatever it may be in man, which has to do with\\r\\njustice and injustice, to be inferior to the body?\\r\\n\\r\\nCRITO:  Certainly not.\\r\\n\\r\\nSOCRATES:  More honourable than the body?\\r\\n\\r\\nCRITO:  Far more.\\r\\n\\r\\nSOCRATES:  Then, my friend, we must not regard what the many say of us:\\r\\nbut what he, the one man who has understanding of just and unjust, will\\r\\nsay, and what the truth will say.  And therefore you begin in error when\\r\\nyou advise that we should regard the opinion of the many about just and\\r\\nunjust, good and evil, honorable and dishonorable.--'Well,' some one will\\r\\nsay, 'but the many can kill us.'\\r\\n\\r\\nCRITO:  Yes, Socrates; that will clearly be the answer.\\r\\n\\r\\nSOCRATES:  And it is true; but still I find with surprise that the old\\r\\nargument is unshaken as ever.  And I should like to know whether I may say\\r\\nthe same of another proposition--that not life, but a good life, is to be\\r\\nchiefly valued?\\r\\n\\r\\nCRITO:  Yes, that also remains unshaken.\\r\\n\\r\\nSOCRATES:  And a good life is equivalent to a just and honorable one--that\\r\\nholds also?\\r\\n\\r\\nCRITO:  Yes, it does.\\r\\n\\r\\nSOCRATES:  From these premisses I proceed to argue the question whether I\\r\\nought or ought not to try and escape without the consent of the Athenians:\\r\\nand if I am clearly right in escaping, then I will make the attempt; but if\\r\\nnot, I will abstain.  The other considerations which you mention, of money\\r\\nand loss of character and the duty of educating one's children, are, I\\r\\nfear, only the doctrines of the multitude, who would be as ready to restore\\r\\npeople to life, if they were able, as they are to put them to death--and\\r\\nwith as little reason.  But now, since the argument has thus far prevailed,\\r\\nthe only question which remains to be considered is, whether we shall do\\r\\nrightly either in escaping or in suffering others to aid in our escape and\\r\\npaying them in money and thanks, or whether in reality we shall not do\\r\\nrightly; and if the latter, then death or any other calamity which may\\r\\nensue on my remaining here must not be allowed to enter into the\\r\\ncalculation.\\r\\n\\r\\nCRITO:  I think that you are right, Socrates; how then shall we proceed?\\r\\n\\r\\nSOCRATES:  Let us consider the matter together, and do you either refute me\\r\\nif you can, and I will be convinced; or else cease, my dear friend, from\\r\\nrepeating to me that I ought to escape against the wishes of the Athenians:\\r\\nfor I highly value your attempts to persuade me to do so, but I may not be\\r\\npersuaded against my own better judgment.  And now please to consider my\\r\\nfirst position, and try how you can best answer me.\\r\\n\\r\\nCRITO:  I will.\\r\\n\\r\\nSOCRATES:  Are we to say that we are never intentionally to do wrong, or\\r\\nthat in one way we ought and in another way we ought not to do wrong, or is\\r\\ndoing wrong always evil and dishonorable, as I was just now saying, and as\\r\\nhas been already acknowledged by us?  Are all our former admissions which\\r\\nwere made within a few days to be thrown away?  And have we, at our age,\\r\\nbeen earnestly discoursing with one another all our life long only to\\r\\ndiscover that we are no better than children?  Or, in spite of the opinion\\r\\nof the many, and in spite of consequences whether better or worse, shall we\\r\\ninsist on the truth of what was then said, that injustice is always an evil\\r\\nand dishonour to him who acts unjustly?  Shall we say so or not?\\r\\n\\r\\nCRITO:  Yes.\\r\\n\\r\\nSOCRATES:  Then we must do no wrong?\\r\\n\\r\\nCRITO:  Certainly not.\\r\\n\\r\\nSOCRATES:  Nor when injured injure in return, as the many imagine; for we\\r\\nmust injure no one at all?  (E.g. compare Rep.)\\r\\n\\r\\nCRITO:  Clearly not.\\r\\n\\r\\nSOCRATES:  Again, Crito, may we do evil?\\r\\n\\r\\nCRITO:  Surely not, Socrates.\\r\\n\\r\\nSOCRATES:  And what of doing evil in return for evil, which is the morality\\r\\nof the many--is that just or not?\\r\\n\\r\\nCRITO:  Not just.\\r\\n\\r\\nSOCRATES:  For doing evil to another is the same as injuring him?\\r\\n\\r\\nCRITO:  Very true.\\r\\n\\r\\nSOCRATES:  Then we ought not to retaliate or render evil for evil to any\\r\\none, whatever evil we may have suffered from him.  But I would have you\\r\\nconsider, Crito, whether you really mean what you are saying.  For this\\r\\nopinion has never been held, and never will be held, by any considerable\\r\\nnumber of persons; and those who are agreed and those who are not agreed\\r\\nupon this point have no common ground, and can only despise one another\\r\\nwhen they see how widely they differ.  Tell me, then, whether you agree\\r\\nwith and assent to my first principle, that neither injury nor retaliation\\r\\nnor warding off evil by evil is ever right.  And shall that be the premiss\\r\\nof our argument?  Or do you decline and dissent from this?  For so I have\\r\\never thought, and continue to think; but, if you are of another opinion,\\r\\nlet me hear what you have to say.  If, however, you remain of the same mind\\r\\nas formerly, I will proceed to the next step.\\r\\n\\r\\nCRITO:  You may proceed, for I have not changed my mind.\\r\\n\\r\\nSOCRATES:  Then I will go on to the next point, which may be put in the\\r\\nform of a question:--Ought a man to do what he admits to be right, or ought\\r\\nhe to betray the right?\\r\\n\\r\\nCRITO:  He ought to do what he thinks right.\\r\\n\\r\\nSOCRATES:  But if this is true, what is the application?  In leaving the\\r\\nprison against the will of the Athenians, do I wrong any? or rather do I\\r\\nnot wrong those whom I ought least to wrong?  Do I not desert the\\r\\nprinciples which were acknowledged by us to be just--what do you say?\\r\\n\\r\\nCRITO:  I cannot tell, Socrates, for I do not know.\\r\\n\\r\\nSOCRATES:  Then consider the matter in this way:--Imagine that I am about\\r\\nto play truant (you may call the proceeding by any name which you like),\\r\\nand the laws and the government come and interrogate me:  'Tell us,\\r\\nSocrates,' they say; 'what are you about? are you not going by an act of\\r\\nyours to overturn us--the laws, and the whole state, as far as in you lies?\\r\\nDo you imagine that a state can subsist and not be overthrown, in which the\\r\\ndecisions of law have no power, but are set aside and trampled upon by\\r\\nindividuals?'  What will be our answer, Crito, to these and the like words?\\r\\nAny one, and especially a rhetorician, will have a good deal to say on\\r\\nbehalf of the law which requires a sentence to be carried out.  He will\\r\\nargue that this law should not be set aside; and shall we reply, 'Yes; but\\r\\nthe state has injured us and given an unjust sentence.'  Suppose I say\\r\\nthat?\\r\\n\\r\\nCRITO:  Very good, Socrates.\\r\\n\\r\\nSOCRATES:  'And was that our agreement with you?' the law would answer; 'or\\r\\nwere you to abide by the sentence of the state?'  And if I were to express\\r\\nmy astonishment at their words, the law would probably add:  'Answer,\\r\\nSocrates, instead of opening your eyes--you are in the habit of asking and\\r\\nanswering questions.  Tell us,--What complaint have you to make against us\\r\\nwhich justifies you in attempting to destroy us and the state?  In the\\r\\nfirst place did we not bring you into existence?  Your father married your\\r\\nmother by our aid and begat you.  Say whether you have any objection to\\r\\nurge against those of us who regulate marriage?'  None, I should reply.\\r\\n'Or against those of us who after birth regulate the nurture and education\\r\\nof children, in which you also were trained?  Were not the laws, which have\\r\\nthe charge of education, right in commanding your father to train you in\\r\\nmusic and gymnastic?'  Right, I should reply.  'Well then, since you were\\r\\nbrought into the world and nurtured and educated by us, can you deny in the\\r\\nfirst place that you are our child and slave, as your fathers were before\\r\\nyou?  And if this is true you are not on equal terms with us; nor can you\\r\\nthink that you have a right to do to us what we are doing to you.  Would\\r\\nyou have any right to strike or revile or do any other evil to your father\\r\\nor your master, if you had one, because you have been struck or reviled by\\r\\nhim, or received some other evil at his hands?--you would not say this?\\r\\nAnd because we think right to destroy you, do you think that you have any\\r\\nright to destroy us in return, and your country as far as in you lies?\\r\\nWill you, O professor of true virtue, pretend that you are justified in\\r\\nthis?  Has a philosopher like you failed to discover that our country is\\r\\nmore to be valued and higher and holier far than mother or father or any\\r\\nancestor, and more to be regarded in the eyes of the gods and of men of\\r\\nunderstanding? also to be soothed, and gently and reverently entreated when\\r\\nangry, even more than a father, and either to be persuaded, or if not\\r\\npersuaded, to be obeyed?  And when we are punished by her, whether with\\r\\nimprisonment or stripes, the punishment is to be endured in silence; and if\\r\\nshe lead us to wounds or death in battle, thither we follow as is right;\\r\\nneither may any one yield or retreat or leave his rank, but whether in\\r\\nbattle or in a court of law, or in any other place, he must do what his\\r\\ncity and his country order him; or he must change their view of what is\\r\\njust:  and if he may do no violence to his father or mother, much less may\\r\\nhe do violence to his country.'  What answer shall we make to this, Crito?\\r\\nDo the laws speak truly, or do they not?\\r\\n\\r\\nCRITO:  I think that they do.\\r\\n\\r\\nSOCRATES:  Then the laws will say:  'Consider, Socrates, if we are speaking\\r\\ntruly that in your present attempt you are going to do us an injury.  For,\\r\\nhaving brought you into the world, and nurtured and educated you, and given\\r\\nyou and every other citizen a share in every good which we had to give, we\\r\\nfurther proclaim to any Athenian by the liberty which we allow him, that if\\r\\nhe does not like us when he has become of age and has seen the ways of the\\r\\ncity, and made our acquaintance, he may go where he pleases and take his\\r\\ngoods with him.  None of us laws will forbid him or interfere with him.\\r\\nAny one who does not like us and the city, and who wants to emigrate to a\\r\\ncolony or to any other city, may go where he likes, retaining his property.\\r\\nBut he who has experience of the manner in which we order justice and\\r\\nadminister the state, and still remains, has entered into an implied\\r\\ncontract that he will do as we command him.  And he who disobeys us is, as\\r\\nwe maintain, thrice wrong:  first, because in disobeying us he is\\r\\ndisobeying his parents; secondly, because we are the authors of his\\r\\neducation; thirdly, because he has made an agreement with us that he will\\r\\nduly obey our commands; and he neither obeys them nor convinces us that our\\r\\ncommands are unjust; and we do not rudely impose them, but give him the\\r\\nalternative of obeying or convincing us;--that is what we offer, and he\\r\\ndoes neither.\\r\\n\\r\\n'These are the sort of accusations to which, as we were saying, you,\\r\\nSocrates, will be exposed if you accomplish your intentions; you, above all\\r\\nother Athenians.'  Suppose now I ask, why I rather than anybody else? they\\r\\nwill justly retort upon me that I above all other men have acknowledged the\\r\\nagreement.  'There is clear proof,' they will say, 'Socrates, that we and\\r\\nthe city were not displeasing to you.  Of all Athenians you have been the\\r\\nmost constant resident in the city, which, as you never leave, you may be\\r\\nsupposed to love (compare Phaedr.).  For you never went out of the city\\r\\neither to see the games, except once when you went to the Isthmus, or to\\r\\nany other place unless when you were on military service; nor did you\\r\\ntravel as other men do.  Nor had you any curiosity to know other states or\\r\\ntheir laws:  your affections did not go beyond us and our state; we were\\r\\nyour especial favourites, and you acquiesced in our government of you; and\\r\\nhere in this city you begat your children, which is a proof of your\\r\\nsatisfaction.  Moreover, you might in the course of the trial, if you had\\r\\nliked, have fixed the penalty at banishment; the state which refuses to let\\r\\nyou go now would have let you go then.  But you pretended that you\\r\\npreferred death to exile (compare Apol.), and that you were not unwilling\\r\\nto die.  And now you have forgotten these fine sentiments, and pay no\\r\\nrespect to us the laws, of whom you are the destroyer; and are doing what\\r\\nonly a miserable slave would do, running away and turning your back upon\\r\\nthe compacts and agreements which you made as a citizen.  And first of all\\r\\nanswer this very question:  Are we right in saying that you agreed to be\\r\\ngoverned according to us in deed, and not in word only?  Is that true or\\r\\nnot?'  How shall we answer, Crito?  Must we not assent?\\r\\n\\r\\nCRITO:  We cannot help it, Socrates.\\r\\n\\r\\nSOCRATES:  Then will they not say:  'You, Socrates, are breaking the\\r\\ncovenants and agreements which you made with us at your leisure, not in any\\r\\nhaste or under any compulsion or deception, but after you have had seventy\\r\\nyears to think of them, during which time you were at liberty to leave the\\r\\ncity, if we were not to your mind, or if our covenants appeared to you to\\r\\nbe unfair.  You had your choice, and might have gone either to Lacedaemon\\r\\nor Crete, both which states are often praised by you for their good\\r\\ngovernment, or to some other Hellenic or foreign state.  Whereas you, above\\r\\nall other Athenians, seemed to be so fond of the state, or, in other words,\\r\\nof us her laws (and who would care about a state which has no laws?), that\\r\\nyou never stirred out of her; the halt, the blind, the maimed, were not\\r\\nmore stationary in her than you were.  And now you run away and forsake\\r\\nyour agreements.  Not so, Socrates, if you will take our advice; do not\\r\\nmake yourself ridiculous by escaping out of the city.\\r\\n\\r\\n'For just consider, if you transgress and err in this sort of way, what\\r\\ngood will you do either to yourself or to your friends?  That your friends\\r\\nwill be driven into exile and deprived of citizenship, or will lose their\\r\\nproperty, is tolerably certain; and you yourself, if you fly to one of the\\r\\nneighbouring cities, as, for example, Thebes or Megara, both of which are\\r\\nwell governed, will come to them as an enemy, Socrates, and their\\r\\ngovernment will be against you, and all patriotic citizens will cast an\\r\\nevil eye upon you as a subverter of the laws, and you will confirm in the\\r\\nminds of the judges the justice of their own condemnation of you.  For he\\r\\nwho is a corrupter of the laws is more than likely to be a corrupter of the\\r\\nyoung and foolish portion of mankind.  Will you then flee from well-ordered\\r\\ncities and virtuous men? and is existence worth having on these terms?  Or\\r\\nwill you go to them without shame, and talk to them, Socrates?  And what\\r\\nwill you say to them?  What you say here about virtue and justice and\\r\\ninstitutions and laws being the best things among men?  Would that be\\r\\ndecent of you?  Surely not.  But if you go away from well-governed states\\r\\nto Crito's friends in Thessaly, where there is great disorder and licence,\\r\\nthey will be charmed to hear the tale of your escape from prison, set off\\r\\nwith ludicrous particulars of the manner in which you were wrapped in a\\r\\ngoatskin or some other disguise, and metamorphosed as the manner is of\\r\\nrunaways; but will there be no one to remind you that in your old age you\\r\\nwere not ashamed to violate the most sacred laws from a miserable desire of\\r\\na little more life?  Perhaps not, if you keep them in a good temper; but if\\r\\nthey are out of temper you will hear many degrading things; you will live,\\r\\nbut how?--as the flatterer of all men, and the servant of all men; and\\r\\ndoing what?--eating and drinking in Thessaly, having gone abroad in order\\r\\nthat you may get a dinner.  And where will be your fine sentiments about\\r\\njustice and virtue?  Say that you wish to live for the sake of your\\r\\nchildren--you want to bring them up and educate them--will you take them\\r\\ninto Thessaly and deprive them of Athenian citizenship?  Is this the\\r\\nbenefit which you will confer upon them?  Or are you under the impression\\r\\nthat they will be better cared for and educated here if you are still\\r\\nalive, although absent from them; for your friends will take care of them?\\r\\nDo you fancy that if you are an inhabitant of Thessaly they will take care\\r\\nof them, and if you are an inhabitant of the other world that they will not\\r\\ntake care of them?  Nay; but if they who call themselves friends are good\\r\\nfor anything, they will--to be sure they will.\\r\\n\\r\\n'Listen, then, Socrates, to us who have brought you up.  Think not of life\\r\\nand children first, and of justice afterwards, but of justice first, that\\r\\nyou may be justified before the princes of the world below.  For neither\\r\\nwill you nor any that belong to you be happier or holier or juster in this\\r\\nlife, or happier in another, if you do as Crito bids.  Now you depart in\\r\\ninnocence, a sufferer and not a doer of evil; a victim, not of the laws,\\r\\nbut of men.  But if you go forth, returning evil for evil, and injury for\\r\\ninjury, breaking the covenants and agreements which you have made with us,\\r\\nand wronging those whom you ought least of all to wrong, that is to say,\\r\\nyourself, your friends, your country, and us, we shall be angry with you\\r\\nwhile you live, and our brethren, the laws in the world below, will receive\\r\\nyou as an enemy; for they will know that you have done your best to destroy\\r\\nus.  Listen, then, to us and not to Crito.'\\r\\n\\r\\nThis, dear Crito, is the voice which I seem to hear murmuring in my ears,\\r\\nlike the sound of the flute in the ears of the mystic; that voice, I say,\\r\\nis humming in my ears, and prevents me from hearing any other.  And I know\\r\\nthat anything more which you may say will be vain.  Yet speak, if you have\\r\\nanything to say.\\r\\n\\r\\nCRITO:  I have nothing to say, Socrates.\\r\\n\\r\\nSOCRATES:  Leave me then, Crito, to fulfil the will of God, and to follow\\r\\nwhither he leads.\""
      ]
     },
     "execution_count": 6,
     "metadata": {
      "tags": []
     },
     "output_type": "execute_result"
    }
   ],
   "source": [
    "# code to get the text from project guntenburg, it's a great resource to check out!\n",
    "socrates = requests.get('http://www.gutenberg.org/cache/epub/1657/pg1657.txt').text[18864:-66]\n",
    "\n",
    "# let's take a look at what we have\n",
    "socrates"
   ]
  },
  {
   "cell_type": "markdown",
   "metadata": {
    "colab_type": "text",
    "id": "ZdXiSQr99nM8"
   },
   "source": [
    "### Pretty messy!\n",
    "In order to make sense of it and draw insights we are goint to process the text."
   ]
  },
  {
   "cell_type": "markdown",
   "metadata": {
    "colab_type": "text",
    "id": "dammVSmE9r65"
   },
   "source": [
    "## Start in the 50's, using python to make rules!"
   ]
  },
  {
   "cell_type": "markdown",
   "metadata": {
    "colab_type": "text",
    "id": "APons-ca9vf3"
   },
   "source": [
    "### Let's take a couple sentences at first and talk about formal languages"
   ]
  },
  {
   "cell_type": "code",
   "execution_count": 0,
   "metadata": {
    "colab": {},
    "colab_type": "code",
    "id": "pqATDljp9oSi"
   },
   "outputs": [],
   "source": [
    "socrates_1 = 'Why have you come at this hour, Crito? it must be quite early.'\n",
    "crito_1 = 'Yes, certainly.'\n",
    "socrates_2 ='What is the exact time?'\n",
    "crito_2 = 'The dawn is breaking.'\n",
    "socrates_3 =' I wonder that the keeper of the prison would let you in.'"
   ]
  },
  {
   "cell_type": "markdown",
   "metadata": {
    "colab_type": "text",
    "id": "_jv3xxY-93eR"
   },
   "source": [
    "Remember python is a formal language like math - meaning that it's just a set of operations that a computer can perform functions on. Why is this important?"
   ]
  },
  {
   "cell_type": "code",
   "execution_count": 0,
   "metadata": {
    "colab": {
     "base_uri": "https://localhost:8080/",
     "height": 34
    },
    "colab_type": "code",
    "id": "bnlGNszx932j",
    "outputId": "fdb03f6a-db36-425f-a5f9-9a84f21f1113"
   },
   "outputs": [
    {
     "name": "stdout",
     "output_type": "stream",
     "text": [
      "True\n"
     ]
    }
   ],
   "source": [
    "# in python the string (aka letter) is not the same if it is lower case or capitalized\n",
    "\n",
    "# this is what the computer'equates' as true\n",
    "print('i' == 'i')"
   ]
  },
  {
   "cell_type": "code",
   "execution_count": 0,
   "metadata": {
    "colab": {
     "base_uri": "https://localhost:8080/",
     "height": 34
    },
    "colab_type": "code",
    "id": "t2ToMM2v97QF",
    "outputId": "81ab4c3e-e021-46eb-bfc6-397156c2643b"
   },
   "outputs": [
    {
     "name": "stdout",
     "output_type": "stream",
     "text": [
      "False\n"
     ]
    }
   ],
   "source": [
    "# will this be false or true?\n",
    "print('i' == 'I')"
   ]
  },
  {
   "cell_type": "markdown",
   "metadata": {
    "colab_type": "text",
    "id": "LOaxRJzsfCCu"
   },
   "source": []
  },
  {
   "cell_type": "code",
   "execution_count": 0,
   "metadata": {
    "colab": {
     "base_uri": "https://localhost:8080/",
     "height": 34
    },
    "colab_type": "code",
    "id": "dHfcvHhM98l9",
    "outputId": "cbcc0d94-402c-4700-f51e-9e2b1049b890"
   },
   "outputs": [
    {
     "name": "stdout",
     "output_type": "stream",
     "text": [
      "False\n"
     ]
    }
   ],
   "source": [
    "# will this be false or true?\n",
    "print('Yes, certainly.' == 'Yes, certainly!')"
   ]
  },
  {
   "cell_type": "markdown",
   "metadata": {
    "colab_type": "text",
    "id": "g6UN29xx-Au5"
   },
   "source": [
    "With this in mind, let's go back to Crito."
   ]
  },
  {
   "cell_type": "markdown",
   "metadata": {
    "colab_type": "text",
    "id": "NYX8HUwO-EDo"
   },
   "source": [
    "### The next blocks of code are for 'cleaning' the text"
   ]
  },
  {
   "cell_type": "code",
   "execution_count": 0,
   "metadata": {
    "colab": {},
    "colab_type": "code",
    "id": "j4E-rH8x-BFp"
   },
   "outputs": [],
   "source": [
    "# this code block is getting our 'natural' words in a format we can use a 'formal' language with!\n",
    "\n",
    "def format_words():\n",
    "    return [x.replace(\"CRITO:\", \"CRITOtalking\").replace(\"SOCRATES:\", \"SOCRATEStalking\").lower() for x in socrates.split()]\n",
    "  \n",
    "def no_punctuation(dialogue):\n",
    "    cleaned_words = []\n",
    "    for word in dialogue:\n",
    "        s = re.sub(r'[^\\w]','',word) \n",
    "        cleaned_words.append(s)\n",
    "    return cleaned_words\n",
    "crito = no_punctuation(format_words()) "
   ]
  },
  {
   "cell_type": "code",
   "execution_count": 0,
   "metadata": {
    "colab": {
     "base_uri": "https://localhost:8080/",
     "height": 34
    },
    "colab_type": "code",
    "id": "c8jMIesV-JBj",
    "outputId": "7b35593e-8ed9-4a6b-973e-343f670d7582"
   },
   "outputs": [
    {
     "name": "stdout",
     "output_type": "stream",
     "text": [
      "The first sentence of the dialogue is:  why have you come at this hour crito it must be quite early \n"
     ]
    }
   ],
   "source": [
    "# this code block is to get all of socrates and critos words separately\n",
    "\n",
    "# making the list into a string\n",
    "string =' '.join(crito)\n",
    "# sentences is a list of sentences of the dialogue as strings\n",
    "sentences = re.split(r'[a-z]+talking', string)[1:]  \n",
    "\n",
    "def get_crito_words():\n",
    "    list_words = []\n",
    "    for i in range(len(sentences)):\n",
    "        if i % 2 ==0:\n",
    "          pass\n",
    "        else:\n",
    "          list_words.append(sentences[i])\n",
    "    return list_words\n",
    "  \n",
    "def get_socrates_words():\n",
    "    s_list_words = []\n",
    "    for i in range(len(sentences)):\n",
    "      if i % 2==0:\n",
    "        s_list_words.append(sentences[i])\n",
    "    return s_list_words\n",
    "\n",
    "# socrates_sentences is just a list of socrates' sentences as strings\n",
    "socrates_sentences = get_socrates_words()\n",
    "# crito_sentences is just a list of crito's sentences as strings\n",
    "crito_sentences = get_crito_words()\n",
    "print('The first sentence of the dialogue is:', sentences[0])"
   ]
  },
  {
   "cell_type": "markdown",
   "metadata": {
    "colab_type": "text",
    "id": "dYSCGQK6-Q3n"
   },
   "source": [
    "### What do you think the most common words are?\n",
    "\n",
    "Also, the most common words **meaningful** or **important** to the text?"
   ]
  },
  {
   "cell_type": "code",
   "execution_count": 0,
   "metadata": {
    "colab": {},
    "colab_type": "code",
    "id": "hI6Qgurh-RUj"
   },
   "outputs": [],
   "source": [
    "counts = Counter(crito)\n",
    "ordered_counts = sorted(counts.items(), key=lambda k: k[1], reverse = True)"
   ]
  },
  {
   "cell_type": "code",
   "execution_count": 0,
   "metadata": {
    "colab": {
     "base_uri": "https://localhost:8080/",
     "height": 323
    },
    "colab_type": "code",
    "id": "sppghXHo-Twx",
    "outputId": "b012395a-879f-4a1c-a65b-a95fe65c1ba8"
   },
   "outputs": [
    {
     "data": {
      "text/plain": [
       "<matplotlib.axes._subplots.AxesSubplot at 0x7ff26e604c50>"
      ]
     },
     "execution_count": 14,
     "metadata": {
      "tags": []
     },
     "output_type": "execute_result"
    },
    {
     "data": {
      "image/png": "[encoded data removed]",
      "text/plain": [
       "<Figure size 432x288 with 1 Axes>"
      ]
     },
     "metadata": {
      "tags": []
     },
     "output_type": "display_data"
    }
   ],
   "source": [
    "#let's look at the ten more common words...\n",
    "df_most_common = pd.DataFrame(ordered_counts[:10], columns=['word', 'frequency'])\n",
    "df_most_common.plot(kind='bar', x='word', title='top 10 most common words')"
   ]
  },
  {
   "cell_type": "markdown",
   "metadata": {
    "colab_type": "text",
    "id": "xxCMgWSf-X0S"
   },
   "source": [
    "Can you tell what this text is about?\n",
    "\n",
    "Let's look at the top 25 words!"
   ]
  },
  {
   "cell_type": "code",
   "execution_count": 0,
   "metadata": {
    "colab": {
     "base_uri": "https://localhost:8080/",
     "height": 379
    },
    "colab_type": "code",
    "id": "XjKQUDlv-Vt5",
    "outputId": "747ab0dc-f15f-41b7-f73d-a04332ba2f01"
   },
   "outputs": [
    {
     "data": {
      "text/plain": [
       "<matplotlib.axes._subplots.AxesSubplot at 0x7ff26d9115f8>"
      ]
     },
     "execution_count": 15,
     "metadata": {
      "tags": []
     },
     "output_type": "execute_result"
    },
    {
     "data": {
      "image/png": "[encoded data removed]",
      "text/plain": [
       "<Figure size 432x288 with 1 Axes>"
      ]
     },
     "metadata": {
      "tags": []
     },
     "output_type": "display_data"
    }
   ],
   "source": [
    "more_words = pd.DataFrame(ordered_counts[:26], columns=['word', 'frequency'])\n",
    "more_words.plot(kind='bar', x='word', title='top 25 most common words')"
   ]
  },
  {
   "cell_type": "markdown",
   "metadata": {
    "colab_type": "text",
    "id": "XZNfflYr-dZr"
   },
   "source": [
    "Still not very descriptive. These words (**and**, **the**, **of**) are called stop words in natural langauge processing.\n",
    "\n"
   ]
  },
  {
   "cell_type": "code",
   "execution_count": 0,
   "metadata": {
    "colab": {},
    "colab_type": "code",
    "id": "dM2J5L1f-dl_"
   },
   "outputs": [],
   "source": [
    "# take out stop words\n",
    "stop_words = [\"i\", \"me\", \"my\", \"myself\", \"we\", \"our\", \"ours\", \"ourselves\", \"you\", \"your\", \"yours\", \"yourself\", \"yourselves\", \"he\", \"him\", \"his\", \"himself\", \"she\", \"her\", \"hers\", \"herself\", \"it\", \"its\", \"itself\", \"they\", \"them\", \"their\", \"theirs\", \"themselves\", \"what\", \"which\", \"who\", \"whom\", \"this\", \"that\", \"these\", \"those\", \"am\", \"is\", \"are\", \"was\", \"were\", \"be\", \"been\", \"being\", \"have\", \"has\", \"had\", \"having\", \"do\", \"does\", \"did\", \"doing\", \"a\", \"an\", \"the\", \"and\", \"but\", \"if\", \"or\", \"because\", \"as\", \"until\", \"while\", \"of\", \"at\", \"by\", \"for\", \"with\", \"about\", \"against\", \"between\", \"into\", \"through\", \"during\", \"before\", \"after\", \"above\", \"below\", \"to\", \"from\", \"up\", \"down\", \"in\", \"out\", \"on\", \"off\", \"over\", \"under\", \"again\", \"further\", \"then\", \"once\", \"here\", \"there\", \"when\", \"where\", \"why\", \"how\", \"all\", \"any\", \"both\", \"each\", \"few\", \"more\", \"most\", \"other\", \"some\", \"such\", \"no\", \"nor\", \"not\", \"only\", \"own\", \"same\", \"so\", \"than\", \"too\", \"very\", \"s\", \"t\", \"can\", \"will\", \"just\", \"don\", \"should\", \"now\", \"like\", \" \", \"\"]\n",
    "\n",
    "# now remove these from the from our corpus\n",
    "remove_stop_words = []\n",
    "for i in range(len(ordered_counts)):\n",
    "    if ordered_counts[i][0] not in stop_words:\n",
    "      remove_stop_words.append((ordered_counts[i][0], ordered_counts[i][1]))"
   ]
  },
  {
   "cell_type": "code",
   "execution_count": 0,
   "metadata": {
    "colab": {},
    "colab_type": "code",
    "id": "jHBP5ge--iGk"
   },
   "outputs": [],
   "source": [
    "# then graph the new dictionary of words!\n",
    "no_stop_words_graph = pd.DataFrame(remove_stop_words[:25], columns=['word', 'frequency'])\n",
    "no_stop_words_graph.plot(kind='bar', x='word', title='top 25 most common words')"
   ]
  },
  {
   "cell_type": "markdown",
   "metadata": {
    "colab_type": "text",
    "id": "r42JlCcM-kKX"
   },
   "source": [
    "### Can we find a pattern in each speaker?"
   ]
  },
  {
   "cell_type": "code",
   "execution_count": 0,
   "metadata": {
    "colab": {},
    "colab_type": "code",
    "id": "3vDMvqBW-kYH"
   },
   "outputs": [],
   "source": [
    "# a function to get the word counts for each speaker\n",
    "def words_counts_by_speaker(speaker_sentences):\n",
    "  speaker_words_list = []\n",
    "  for i in range(len(speaker_sentences)):\n",
    "    speaker_words_list.append(speaker_sentences[i].split(' '))\n",
    "    speaker_words = [val for sublist in speaker_words_list for val in sublist]\n",
    "\n",
    "  # get word counts for crito\n",
    "  speaker_counts = Counter(speaker_words)\n",
    "  ordered_speaker_counts = sorted(speaker_counts.items(), key=lambda k: k[1], reverse = True)\n",
    "\n",
    "  # now remove these from the from our corpus for crito\n",
    "  remove_stop_words_speaker = []\n",
    "  for i in range(len(speaker_counts)):\n",
    "    if ordered_speaker_counts[i][0] not in stop_words:\n",
    "      remove_stop_words_speaker.append((ordered_speaker_counts[i][0], ordered_speaker_counts[i][1]))\n",
    "  return remove_stop_words_speaker"
   ]
  },
  {
   "cell_type": "code",
   "execution_count": 0,
   "metadata": {
    "colab": {
     "base_uri": "https://localhost:8080/",
     "height": 349
    },
    "colab_type": "code",
    "id": "EPjEMndY-oHG",
    "outputId": "89ad3528-8b7e-40f8-b078-e37886b22eea"
   },
   "outputs": [
    {
     "data": {
      "text/plain": [
       "<matplotlib.axes._subplots.AxesSubplot at 0x7ff26d18c2e8>"
      ]
     },
     "execution_count": 19,
     "metadata": {
      "tags": []
     },
     "output_type": "execute_result"
    },
    {
     "data": {
      "image/png": "[encoded data removed]",
      "text/plain": [
       "<Figure size 432x288 with 1 Axes>"
      ]
     },
     "metadata": {
      "tags": []
     },
     "output_type": "display_data"
    }
   ],
   "source": [
    "no_stop_words_crito_graph = pd.DataFrame(words_counts_by_speaker(crito_sentences)[:25], columns=['word', 'frequency'])\n",
    "no_stop_words_crito_graph.plot(kind='bar', x='word', title='top 25 most common words for crito')"
   ]
  },
  {
   "cell_type": "code",
   "execution_count": 0,
   "metadata": {
    "colab": {
     "base_uri": "https://localhost:8080/",
     "height": 345
    },
    "colab_type": "code",
    "id": "d5KPHlP9-rL6",
    "outputId": "c28f0725-ba2c-4f15-f47a-2a9f36c1a046"
   },
   "outputs": [
    {
     "data": {
      "text/plain": [
       "<matplotlib.axes._subplots.AxesSubplot at 0x7ff26d124b38>"
      ]
     },
     "execution_count": 20,
     "metadata": {
      "tags": []
     },
     "output_type": "execute_result"
    },
    {
     "data": {
      "image/png": "[encoded data removed]",
      "text/plain": [
       "<Figure size 432x288 with 1 Axes>"
      ]
     },
     "metadata": {
      "tags": []
     },
     "output_type": "display_data"
    }
   ],
   "source": [
    "no_stop_words_socrates_graph = pd.DataFrame(words_counts_by_speaker(socrates_sentences)[:25], columns=['word', 'frequency'])\n",
    "no_stop_words_socrates_graph.plot(kind='bar', x='word', title='top 25 most common words for socrates')"
   ]
  },
  {
   "cell_type": "code",
   "execution_count": 0,
   "metadata": {
    "colab": {
     "base_uri": "https://localhost:8080/",
     "height": 51
    },
    "colab_type": "code",
    "id": "N9bPMhUL-tTw",
    "outputId": "89be96a0-c988-41c5-8130-ba29d1c38d9e"
   },
   "outputs": [
    {
     "name": "stdout",
     "output_type": "stream",
     "text": [
      "crito's word count 122\n",
      "socrates' word count 377\n"
     ]
    }
   ],
   "source": [
    "print(\"crito's word count\", no_stop_words_crito_graph.frequency.sum())\n",
    "print(\"socrates' word count\", no_stop_words_socrates_graph.frequency.sum())\n",
    "# words_counts_by_speaker(crito_sentences)[:25]"
   ]
  },
  {
   "cell_type": "markdown",
   "metadata": {
    "colab_type": "text",
    "id": "d6Boeaf--zVo"
   },
   "source": [
    "Did we take everything into consideration?"
   ]
  },
  {
   "cell_type": "markdown",
   "metadata": {
    "colab_type": "text",
    "id": "WGQ_OXyU-8eo"
   },
   "source": [
    "## Modern techinques - Looking at sentiment and summarization"
   ]
  },
  {
   "cell_type": "markdown",
   "metadata": {
    "colab_type": "text",
    "id": "U_-XQwpw-_Z3"
   },
   "source": [
    "### Sentiment with Textblob\n",
    "Textblob is a python library for natural language processing!"
   ]
  },
  {
   "cell_type": "code",
   "execution_count": 0,
   "metadata": {
    "colab": {
     "base_uri": "https://localhost:8080/"
    },
    "colab_type": "code",
    "id": "oaGrDfjJ-0D_",
    "outputId": "4d8fba48-a9ac-4d21-e2b8-63f75803fb8e"
   },
   "outputs": [
    {
     "name": "stdout",
     "output_type": "stream",
     "text": [
      "[nltk_data] Downloading collection 'popular'\n",
      "[nltk_data]    | \n",
      "[nltk_data]    | Downloading package cmudict to /root/nltk_data...\n",
      "[nltk_data]    |   Unzipping corpora/cmudict.zip.\n",
      "[nltk_data]    | Downloading package gazetteers to /root/nltk_data...\n",
      "[nltk_data]    |   Unzipping corpora/gazetteers.zip.\n",
      "[nltk_data]    | Downloading package genesis to /root/nltk_data...\n",
      "[nltk_data]    |   Unzipping corpora/genesis.zip.\n",
      "[nltk_data]    | Downloading package gutenberg to /root/nltk_data...\n",
      "[nltk_data]    |   Unzipping corpora/gutenberg.zip.\n",
      "[nltk_data]    | Downloading package inaugural to /root/nltk_data...\n",
      "[nltk_data]    |   Unzipping corpora/inaugural.zip.\n",
      "[nltk_data]    | Downloading package movie_reviews to\n",
      "[nltk_data]    |     /root/nltk_data...\n",
      "[nltk_data]    |   Unzipping corpora/movie_reviews.zip.\n",
      "[nltk_data]    | Downloading package names to /root/nltk_data...\n",
      "[nltk_data]    |   Unzipping corpora/names.zip.\n",
      "[nltk_data]    | Downloading package shakespeare to /root/nltk_data...\n",
      "[nltk_data]    |   Unzipping corpora/shakespeare.zip.\n",
      "[nltk_data]    | Downloading package stopwords to /root/nltk_data...\n",
      "[nltk_data]    |   Unzipping corpora/stopwords.zip.\n",
      "[nltk_data]    | Downloading package treebank to /root/nltk_data...\n",
      "[nltk_data]    |   Unzipping corpora/treebank.zip.\n",
      "[nltk_data]    | Downloading package twitter_samples to\n",
      "[nltk_data]    |     /root/nltk_data...\n",
      "[nltk_data]    |   Unzipping corpora/twitter_samples.zip.\n",
      "[nltk_data]    | Downloading package omw to /root/nltk_data...\n",
      "[nltk_data]    |   Unzipping corpora/omw.zip.\n",
      "[nltk_data]    | Downloading package wordnet to /root/nltk_data...\n",
      "[nltk_data]    |   Unzipping corpora/wordnet.zip.\n",
      "[nltk_data]    | Downloading package wordnet_ic to /root/nltk_data...\n",
      "[nltk_data]    |   Unzipping corpora/wordnet_ic.zip.\n",
      "[nltk_data]    | Downloading package words to /root/nltk_data...\n",
      "[nltk_data]    |   Unzipping corpora/words.zip.\n",
      "[nltk_data]    | Downloading package maxent_ne_chunker to\n",
      "[nltk_data]    |     /root/nltk_data...\n",
      "[nltk_data]    |   Unzipping chunkers/maxent_ne_chunker.zip.\n",
      "[nltk_data]    | Downloading package punkt to /root/nltk_data...\n",
      "[nltk_data]    |   Unzipping tokenizers/punkt.zip.\n",
      "[nltk_data]    | Downloading package snowball_data to\n",
      "[nltk_data]    |     /root/nltk_data...\n",
      "[nltk_data]    | Downloading package averaged_perceptron_tagger to\n",
      "[nltk_data]    |     /root/nltk_data...\n",
      "[nltk_data]    |   Unzipping taggers/averaged_perceptron_tagger.zip.\n",
      "[nltk_data]    | \n",
      "[nltk_data]  Done downloading collection popular\n"
     ]
    }
   ],
   "source": [
    "# we are using the nltk library and textblob\n",
    "import nltk\n",
    "nltk.download(\"popular\")\n",
    "from textblob import TextBlob"
   ]
  },
  {
   "cell_type": "code",
   "execution_count": 0,
   "metadata": {
    "colab": {
     "base_uri": "https://localhost:8080/"
    },
    "colab_type": "code",
    "id": "rMUbUbbV_EN2",
    "outputId": "412871b2-d7fb-46fa-ba98-071aa9bf1caa"
   },
   "outputs": [
    {
     "data": {
      "text/plain": [
       "Sentiment(polarity=0.625, subjectivity=0.6)"
      ]
     },
     "execution_count": 23,
     "metadata": {
      "tags": []
     },
     "output_type": "execute_result"
    }
   ],
   "source": [
    "# let's test it out\n",
    "movie_sent = TextBlob(\"I would love to NOT go to the movies!\")\n",
    "spoiler_sent = TextBlob(\"This is terrible!!\")\n",
    "movie_sent.sentiment"
   ]
  },
  {
   "cell_type": "code",
   "execution_count": 0,
   "metadata": {
    "colab": {
     "base_uri": "https://localhost:8080/"
    },
    "colab_type": "code",
    "id": "8OF48cuJ_H4O",
    "outputId": "6e2f4d20-4842-46a8-e7ee-7f31ffabdd6d"
   },
   "outputs": [
    {
     "data": {
      "text/plain": [
       "Sentiment(polarity=-0.6, subjectivity=0.95)"
      ]
     },
     "execution_count": 24,
     "metadata": {
      "tags": []
     },
     "output_type": "execute_result"
    }
   ],
   "source": [
    "word_sent = TextBlob(\"I come to bring you a message which is sad and painful; not, as I believe, to yourself, but to all of us who are your friends, and saddest of all to me.\")\n",
    "word_sent.sentiment"
   ]
  },
  {
   "cell_type": "markdown",
   "metadata": {
    "colab_type": "text",
    "id": "-Vio1uTE_KUs"
   },
   "source": [
    "While this is a very cool use case of natural language processing it is important to remember that the sentiment we get from a machine learning model can be biased. This is based on what text is used to *train* the model."
   ]
  },
  {
   "cell_type": "markdown",
   "metadata": {
    "colab_type": "text",
    "id": "M0ISkI99_NrG"
   },
   "source": [
    "### summarization"
   ]
  },
  {
   "cell_type": "code",
   "execution_count": 0,
   "metadata": {
    "colab": {},
    "colab_type": "code",
    "id": "jB-7K4cQ_KsS"
   },
   "outputs": [],
   "source": [
    "from gensim.summarization.summarizer import summarize"
   ]
  },
  {
   "cell_type": "code",
   "execution_count": 0,
   "metadata": {
    "colab": {},
    "colab_type": "code",
    "id": "3ovIDLbX_TGl"
   },
   "outputs": [],
   "source": [
    "socrates_last = '''\n",
    "Then will they not say: ‘You, Socrates, are breaking the covenants and agreements which you made with us at your leisure, not in any haste or under any compulsion or deception, but after you have had seventy years to think of them, during which time you were at liberty to leave the city, if we were not to your mind, or if our covenants appeared to you to be unfair. You had your choice, and might have gone either to Lacedaemon or Crete, both which states are often praised by you for their good government, or to some other Hellenic or foreign state. Whereas you, above all other Athenians, seemed to be so fond of the state, or, in other words, of us, her laws (and who would care about a state which has no laws?), that you never stirred out of her; the halt, the blind, the maimed were not more stationary in her than you were. And now you run away and forsake your agreements. Not so, Socrates, if you will take our advice; do not make yourself ridiculous by escaping out of the city.\n",
    "\n",
    "‘For just consider, if you transgress and err in this sort of way, what good will you do either to yourself or to your friends? That your friends will be driven into exile and deprived of citizenship, or will lose their property, is tolerably certain; and you yourself, if you fly to one of the neighbouring cities, as, for example, Thebes or Megara, both of which are well governed, will come to them as an enemy, Socrates, and their government will be against you, and all patriotic citizens will cast an evil eye upon you as a subverter of the laws, and you will confirm in the minds of the judges the justice of their own condemnation of you. For he who is a corrupter of the laws is more than likely to be a corrupter of the young and foolish portion of mankind. Will you then flee from well-ordered cities and virtuous men? and is existence worth having on these terms? Or will you go to them without shame, and talk to them, Socrates? And what will you say to them? What you say here about virtue and justice and institutions and laws being the best things among men? Would that be decent of you? Surely not. But if you go away from well-governed states to Crito’s friends in Thessaly, where there is great disorder and licence, they will be charmed to hear the tale of your escape from prison, set off with ludicrous particulars of the manner in which you were wrapped in a goatskin or some other disguise, and metamorphosed as the manner is of runaways; but will there be no one to remind you that in your old age you were not ashamed to violate the most sacred laws from a miserable desire of a little more life? Perhaps not, if you keep them in a good temper; but if they are out of temper you will hear many degrading things; you will live, but how?—as the flatterer of all men, and the servant of all men; and doing what?—eating and drinking in Thessaly, having gone abroad in order that you may get a dinner. And where will be your fine sentiments about justice and virtue? Say that you wish to live for the sake of your children—you want to bring them up and educate them—will you take them into Thessaly and deprive them of Athenian citizenship? Is this the benefit which you will confer upon them? Or are you under the impression that they will be better cared for and educated here if you are still alive, although absent from them; for your friends will take care of them? Do you fancy that if you are an inhabitant of Thessaly they will take care of them, and if you are an inhabitant of the other world that they will not take care of them? Nay; but if they who call themselves friends are good for anything, they will—to be sure they will.\n",
    "\n",
    "‘Listen, then, Socrates, to us who have brought you up. Think not of life and children first, and of justice afterwards, but of justice first, that you may be justified before the princes of the world below. For neither will you nor any that belong to you be happier or holier or juster in this life, or happier in another, if you do as Crito bids. Now you depart in innocence, a sufferer and not a doer of evil; a victim, not of the laws, but of men. But if you go forth, returning evil for evil, and injury for injury, breaking the covenants and agreements which you have made with us, and wronging those whom you ought least of all to wrong, that is to say, yourself, your friends, your country, and us, we shall be angry with you while you live, and our brethren, the laws in the world below, will receive you as an enemy; for they will know that you have done your best to destroy us. Listen, then, to us and not to Crito.’\n",
    "\n",
    "This, dear Crito, is the voice which I seem to hear murmuring in my ears, like the sound of the flute in the ears of the mystic; that voice, I say, is humming in my ears, and prevents me from hearing any other. And I know that anything more which you may say will be vain. Yet speak, if you have anything to say.'''"
   ]
  },
  {
   "cell_type": "code",
   "execution_count": 0,
   "metadata": {
    "colab": {
     "base_uri": "https://localhost:8080/"
    },
    "colab_type": "code",
    "id": "RMO1Rcrq_Vyn",
    "outputId": "284a4425-38eb-46ce-fba0-ca922b2bc03d"
   },
   "outputs": [
    {
     "data": {
      "text/plain": [
       "'Then will they not say: ‘You, Socrates, are breaking the covenants and agreements which you made with us at your leisure, not in any haste or under any compulsion or deception, but after you have had seventy years to think of them, during which time you were at liberty to leave the city, if we were not to your mind, or if our covenants appeared to you to be unfair.\\nThat your friends will be driven into exile and deprived of citizenship, or will lose their property, is tolerably certain; and you yourself, if you fly to one of the neighbouring cities, as, for example, Thebes or Megara, both of which are well governed, will come to them as an enemy, Socrates, and their government will be against you, and all patriotic citizens will cast an evil eye upon you as a subverter of the laws, and you will confirm in the minds of the judges the justice of their own condemnation of you.\\nWhat you say here about virtue and justice and institutions and laws being the best things among men?\\nBut if you go away from well-governed states to Crito’s friends in Thessaly, where there is great disorder and licence, they will be charmed to hear the tale of your escape from prison, set off with ludicrous particulars of the manner in which you were wrapped in a goatskin or some other disguise, and metamorphosed as the manner is of runaways; but will there be no one to remind you that in your old age you were not ashamed to violate the most sacred laws from a miserable desire of a little more life?\\nPerhaps not, if you keep them in a good temper; but if they are out of temper you will hear many degrading things; you will live, but how?—as the flatterer of all men, and the servant of all men; and doing what?—eating and drinking in Thessaly, having gone abroad in order that you may get a dinner.\\nBut if you go forth, returning evil for evil, and injury for injury, breaking the covenants and agreements which you have made with us, and wronging those whom you ought least of all to wrong, that is to say, yourself, your friends, your country, and us, we shall be angry with you while you live, and our brethren, the laws in the world below, will receive you as an enemy; for they will know that you have done your best to destroy us.'"
      ]
     },
     "execution_count": 27,
     "metadata": {
      "tags": []
     },
     "output_type": "execute_result"
    }
   ],
   "source": [
    "summarize(socrates_last)"
   ]
  },
  {
   "cell_type": "code",
   "execution_count": 0,
   "metadata": {
    "colab": {
     "base_uri": "https://localhost:8080/"
    },
    "colab_type": "code",
    "id": "VmCiAVTE_YG6",
    "outputId": "e1bf0362-a5a4-4bce-eac1-21d3f0d512b0"
   },
   "outputs": [
    {
     "name": "stdout",
     "output_type": "stream",
     "text": [
      "The length of our summary is 2233 charaters\n",
      "The length of the original text is 4899 charaters\n"
     ]
    }
   ],
   "source": [
    "print( \"The length of our summary is\", len(summarize(socrates_last)), \"charaters\")\n",
    "print( \"The length of the original text is\", len(socrates_last), \"charaters\")"
   ]
  },
  {
   "cell_type": "markdown",
   "metadata": {
    "colab_type": "text",
    "id": "emPZ7tp4_cpF"
   },
   "source": [
    "Let's summarize the whole text!"
   ]
  },
  {
   "cell_type": "code",
   "execution_count": 0,
   "metadata": {
    "colab": {
     "base_uri": "https://localhost:8080/"
    },
    "colab_type": "code",
    "id": "ahd5GSxP_cMY",
    "outputId": "557257d4-593f-443b-dbb0-6761666962c6"
   },
   "outputs": [
    {
     "name": "stdout",
     "output_type": "stream",
     "text": [
      "SOCRATES:  Why have you come at this hour, Crito?\n",
      "SOCRATES:  I wonder that the keeper of the prison would let you in.\n",
      "CRITO:  He knows me because I often come, Socrates; moreover.\n",
      "CRITO:  I should not have liked myself, Socrates, to be in such great\r\n",
      "SOCRATES:  Why, Crito, when a man has reached my age he ought not to be\r\n",
      "CRITO:  And yet other old men find themselves in similar misfortunes, and\r\n",
      "SOCRATES:  That is true.\n",
      "CRITO:  I come to bring you a message which is sad and painful; not, as I\r\n",
      "CRITO:  No, the ship has not actually arrived, but she will probably be\r\n",
      "left her there; and therefore to-morrow, Socrates, will be the last day of\r\n",
      "SOCRATES:  Very well, Crito; if such is the will of God, I am willing; but\r\n",
      "SOCRATES:  I will tell you.\n",
      "CRITO:  Yes; that is what the authorities say.\n",
      "SOCRATES:  But I do not think that the ship will be here until to-morrow;\r\n",
      "SOCRATES:  There appeared to me the likeness of a woman, fair and comely,\r\n",
      "CRITO:  What a singular dream, Socrates!\n",
      "SOCRATES:  There can be no doubt about the meaning, Crito, I think.\n",
      "CRITO:  Yes; the meaning is only too clear.\n",
      "thought to value money more than the life of a friend?\n",
      "SOCRATES:  But why, my dear Crito, should we care about the opinion of the\r\n",
      "Good men, and they are the only persons who are worth considering,\r\n",
      "CRITO:  But you see, Socrates, that the opinion of the many must be\r\n",
      "evil to any one who has lost their good opinion.\n",
      "SOCRATES:  I only wish it were so, Crito; and that the many could do the\r\n",
      "CRITO:  Well, I will not dispute with you; but please to tell me, Socrates,\r\n",
      "SOCRATES:  Yes, Crito, that is one fear which you mention, but by no means\r\n",
      "CRITO:  Fear not--there are persons who are willing to get you out of\r\n",
      "Nor can I think that you are at all justified, Socrates,\r\n",
      "No man should bring children into the world who is unwilling to\r\n",
      "or possible; I beseech you therefore, Socrates, be persuaded by me, and do\r\n",
      "SOCRATES:  Dear Crito, your zeal is invaluable, if a right one; but if\r\n",
      "us like children with hobgoblin terrors (compare Apol.).\n",
      "argument about the opinions of men?--we were saying that some of them are\r\n",
      "what I want to consider with your help, Crito:--whether, under my present\r\n",
      "Now you, Crito, are not going to die to-morrow--at\r\n",
      "SOCRATES:  The good are to be regarded, and not the bad?\n",
      "SOCRATES:  And the opinions of the wise are good, and the opinions of the\r\n",
      "CRITO:  Of one man only.\n",
      "SOCRATES:  And he ought to fear the censure and welcome the praise of that\r\n",
      "SOCRATES:  And he ought to act and train, and eat and drink in the way\r\n",
      "SOCRATES:  And if he disobeys and disregards the opinion and approval of\r\n",
      "SOCRATES:  And what will the evil be, whither tending and what affecting,\r\n",
      "CRITO:  Clearly, affecting the body; that is what is destroyed by the evil.\n",
      "SOCRATES:  Very good; and is not this true, Crito, of other things which we\r\n",
      "CRITO:  Certainly there is, Socrates.\n",
      "SOCRATES:  Take a parallel instance:--if, acting under the advice of those\r\n",
      "SOCRATES:  Could we live, having an evil and corrupted body?\n",
      "SOCRATES:  And will life be worth having, if that higher part of man be\r\n",
      "SOCRATES:  More honourable than the body?\n",
      "CRITO:  Far more.\n",
      "SOCRATES:  Then, my friend, we must not regard what the many say of us:\r\n",
      "unjust, good and evil, honorable and dishonorable.--'Well,' some one will\r\n",
      "CRITO:  Yes, Socrates; that will clearly be the answer.\n",
      "SOCRATES:  And it is true; but still I find with surprise that the old\r\n",
      "CRITO:  Yes, that also remains unshaken.\n",
      "SOCRATES:  And a good life is equivalent to a just and honorable one--that\r\n",
      "SOCRATES:  From these premisses I proceed to argue the question whether I\r\n",
      "the only question which remains to be considered is, whether we shall do\r\n",
      "CRITO:  I think that you are right, Socrates; how then shall we proceed?\n",
      "SOCRATES:  Let us consider the matter together, and do you either refute me\r\n",
      "SOCRATES:  Are we to say that we are never intentionally to do wrong, or\r\n",
      "CRITO:  Yes.\n",
      "CRITO:  Yes.\n",
      "SOCRATES:  Then we must do no wrong?\n",
      "SOCRATES:  Again, Crito, may we do evil?\n",
      "CRITO:  Surely not, Socrates.\n",
      "SOCRATES:  And what of doing evil in return for evil, which is the morality\r\n",
      "SOCRATES:  For doing evil to another is the same as injuring him?\n",
      "CRITO:  Very true.\n",
      "CRITO:  Very true.\n",
      "SOCRATES:  Then we ought not to retaliate or render evil for evil to any\r\n",
      "consider, Crito, whether you really mean what you are saying.\n",
      "SOCRATES:  Then I will go on to the next point, which may be put in the\r\n",
      "CRITO:  He ought to do what he thinks right.\n",
      "SOCRATES:  But if this is true, what is the application?\n",
      "CRITO:  I cannot tell, Socrates, for I do not know.\n",
      "SOCRATES:  Then consider the matter in this way:--Imagine that I am about\r\n",
      "and the laws and the government come and interrogate me:  'Tell us,\r\n",
      "yours to overturn us--the laws, and the whole state, as far as in you lies?\n",
      "individuals?'  What will be our answer, Crito, to these and the like words?\n",
      "argue that this law should not be set aside; and shall we reply, 'Yes; but\r\n",
      "CRITO:  Very good, Socrates.\n",
      "SOCRATES:  'And was that our agreement with you?' the law would answer; 'or\r\n",
      "the charge of education, right in commanding your father to train you in\r\n",
      "you have any right to strike or revile or do any other evil to your father\r\n",
      "he do violence to his country.'  What answer shall we make to this, Crito?\n",
      "CRITO:  I think that they do.\n",
      "CRITO:  I think that they do.\n",
      "Any one who does not like us and the city, and who wants to emigrate to a\r\n",
      "their laws:  your affections did not go beyond us and our state; we were\r\n",
      "answer this very question:  Are we right in saying that you agreed to be\r\n",
      "not?'  How shall we answer, Crito?\n",
      "CRITO:  We cannot help it, Socrates.\n",
      "Not so, Socrates, if you will take our advice; do not\r\n",
      "good will you do either to yourself or to your friends?\n",
      "well governed, will come to them as an enemy, Socrates, and their\r\n",
      "institutions and laws being the best things among men?\n",
      "to Crito's friends in Thessaly, where there is great disorder and licence,\r\n",
      "'Listen, then, Socrates, to us who have brought you up.\n",
      "life, or happier in another, if you do as Crito bids.\n",
      "CRITO:  I have nothing to say, Socrates.\n",
      "SOCRATES:  Leave me then, Crito, to fulfil the will of God, and to follow\r\n"
     ]
    }
   ],
   "source": [
    "print(summarize(socrates))"
   ]
  },
  {
   "cell_type": "code",
   "execution_count": 0,
   "metadata": {
    "colab": {
     "base_uri": "https://localhost:8080/"
    },
    "colab_type": "code",
    "id": "norppEd4_jDE",
    "outputId": "c4f8b2e7-5974-42fd-b562-c3b31f683962"
   },
   "outputs": [
    {
     "name": "stdout",
     "output_type": "stream",
     "text": [
      "The length of our summary is 6198 charaters\n",
      "The length of the original text is 29288 charaters\n"
     ]
    }
   ],
   "source": [
    "print( \"The length of our summary is\", len(summarize(socrates)), \"charaters\")\n",
    "print( \"The length of the original text is\", len(socrates), \"charaters\")"
   ]
  },
  {
   "cell_type": "code",
   "execution_count": 0,
   "metadata": {
    "colab": {},
    "colab_type": "code",
    "id": "yOxSU_kBlRXO"
   },
   "outputs": [],
   "source": []
  },
  {
   "cell_type": "code",
   "execution_count": 0,
   "metadata": {
    "colab": {},
    "colab_type": "code",
    "id": "xMyCcIoYlSdw"
   },
   "outputs": [],
   "source": []
  }
 ],
 "metadata": {
  "colab": {
   "collapsed_sections": [
    "bxYAmr7k9ayk",
    "dammVSmE9r65",
    "APons-ca9vf3",
    "NYX8HUwO-EDo",
    "dYSCGQK6-Q3n",
    "r42JlCcM-kKX",
    "WGQ_OXyU-8eo",
    "U_-XQwpw-_Z3",
    "M0ISkI99_NrG"
   ],
   "name": "Copy of Copy of socrates-talk.ipynb",
   "provenance": []
  },
  "kernelspec": {
   "display_name": "Python 3",
   "language": "python",
   "name": "python3"
  },
  "language_info": {
   "codemirror_mode": {
    "name": "ipython",
    "version": 3
   },
   "file_extension": ".py",
   "mimetype": "text/x-python",
   "name": "python",
   "nbconvert_exporter": "python",
   "pygments_lexer": "ipython3",
   "version": "3.7.4"
  }
 },
 "nbformat": 4,
 "nbformat_minor": 1
}
