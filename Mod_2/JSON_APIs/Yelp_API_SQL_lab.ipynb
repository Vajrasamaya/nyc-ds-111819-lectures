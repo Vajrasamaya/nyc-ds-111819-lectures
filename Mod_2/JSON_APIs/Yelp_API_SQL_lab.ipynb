{
 "cells": [
  {
   "cell_type": "markdown",
   "metadata": {},
   "source": [
    "# Yelp API - Lab\n",
    "\n",
    "\n",
    "\n",
    "## Introduction \n",
    "\n",
    "Now that we've seen how the Yelp API works, it's time to put those API and SQL skills to work in order to do some basic business analysis! Taking things a step further, you'll also independently explore how to perform pagination in order to retrieve a full results set from the Yelp API!\n",
    "\n",
    "## Objectives\n",
    "\n",
    "You will be able to:\n",
    "* Create a DB on AWS to store information from Yelp about businesses\n",
    "* Create HTTP requests to get data from Yelp API\n",
    "* Parse HTTP responses and insert the information into your DB\n",
    "* Perform pagination to retrieve troves of data!\n",
    "* Write SQL queries to answer questions about your data "
   ]
  },
  {
   "cell_type": "markdown",
   "metadata": {},
   "source": [
    "## Problem Introduction\n",
    "\n",
    "For this lab you will analyze the yelp data for a group of businesses to learn more about an industry. You will choose a type of business (Italian Restuarants, Nail Salons, Crossfit gyms) and a location to analyze. Then you will get data from the Yelp API, store that data in a SQL Database on AWS, and write queries to answer questions about the data. \n",
    "\n",
    "\n",
    "### Process:\n",
    "\n",
    "1. Read through the SQL questions and the API documentation to determine which pieces of information you need to pull from the Yelp API.\n",
    "\n",
    "2. Create a DB schema with 2 tables. One for the businesses and one for the reviews.\n",
    "\n",
    "3. Create code to:\n",
    "  - Perform a search of businesses using pagination\n",
    "  - Parse the API response for specific data points\n",
    "  - Insert the data into your AWS DB\n",
    "\n",
    "4. Use the functions above in a loop that will paginate over the results to retrieve all of the results. \n",
    "\n",
    "5. Create functions to:\n",
    "  - Retrieve the reviews data of one business\n",
    "  - Parse the reviews response for specific review data\n",
    "  - Insert the review data into the DB\n",
    "\n",
    "6. Using SQL, query all of the business IDs. Using the 3 Python functions you've created, run your business IDs through a loop to get the reviews for each business and insert them into your DB.\n",
    "\n",
    "7. Write SQL queries to answer the following questions about your data.\n",
    "\n",
    "\n",
    "Bonus Steps:  \n",
    "- Place your helper functions in a package so that your final notebook only has the major steps listed.\n",
    "- Rewrite your business search functions to be able take an argument for the type of business you are searching for.\n",
    "- Add another group of businesses to your database.\n"
   ]
  },
  {
   "cell_type": "markdown",
   "metadata": {},
   "source": [
    " \n",
    "## SQL Questions:\n",
    "\n",
    "- Which are the 5 most reviewed businesses?\n",
    "- What is the highest rating recieved in your data set and how many businesses have that rating?\n",
    "- What percentage of businesses have a rating greater than or  4.5?\n",
    "- What percentage of businesses have a rating less than 3?\n",
    "- What is the average rating of restaurants that have a price label of one dollar sign? Two dollar signs? Three dollar signs? \n",
    "- Return the text of the reviews for the most reviewed restaurant. \n",
    "- Return the name of the business with the most recent review. \n",
    "- Find the highest rated business and return text of the most recent review. If multiple business have the same rating, select the restaurant with the most reviews. \n",
    "- Find the lowest rated business and return text of the most recent review.  If multiple business have the same rating, select the restaurant with the least reviews. \n"
   ]
  },
  {
   "cell_type": "markdown",
   "metadata": {},
   "source": [
    "## Part 1 - Understanding your data and question\n",
    "\n",
    "Lok at the question and determine what data you will need to store in your database in order to answer the questions. Start to thin about your DB schema. What tables will you want to create and what columns will you ahve for those tables. \n",
    "\n",
    "Look at the API documentation, and determine what fields of the API response you will match up with the columns you want in your DB tables. \n",
    "\n",
    "\n",
    "https://www.yelp.com/developers/documentation/v3/get_started"
   ]
  },
  {
   "cell_type": "markdown",
   "metadata": {},
   "source": [
    "## Part 2 - Set up the DB\n",
    "\n",
    "Now that you are familiar with the data, create your SQL queries to create the DB and the appropriate tables. "
   ]
  },
  {
   "cell_type": "markdown",
   "metadata": {},
   "source": [
    "### Foriegn Keys\n",
    "\n",
    "BFor this project you will have two tables that you need to link using a foreign key. Below is some information about how to create a foriegn key.  \n",
    "\n",
    "http://www.mysqltutorial.org/mysql-foreign-key/\n",
    "\n"
   ]
  },
  {
   "cell_type": "markdown",
   "metadata": {},
   "source": [
    "### Using DB:\n",
    "    \n",
    "For this lab, you can either store the data on one DB or put in on both of the partners DBs. If you decide to put it on one DB, you want to make sure both partners have access to it.  To do this you want to add a user to your DB.  \n",
    "\n",
    "[how to add a new user](https://howchoo.com/g/mtm3zdq2nzv/how-to-add-a-mysql-user-and-grant-privileges)"
   ]
  },
  {
   "cell_type": "code",
   "execution_count": 3,
   "metadata": {},
   "outputs": [],
   "source": [
    "import yelp_config\n",
    "import mysql.connector\n",
    "import requests\n",
    "import json"
   ]
  },
  {
   "cell_type": "code",
   "execution_count": 4,
   "metadata": {},
   "outputs": [],
   "source": [
    "## Create new DB \n",
    "\n",
    "cnx = mysql.connector.connect(\n",
    "    host = yelp_config.host,\n",
    "    user = yelp_config.user,\n",
    "    passwd = yelp_config.passwd,\n",
    "    db='yelp'\n",
    ")\n",
    "c = cnx.cursor()"
   ]
  },
  {
   "cell_type": "code",
   "execution_count": 5,
   "metadata": {},
   "outputs": [],
   "source": [
    "# Create a table for the Businesses\n",
    "#done in SQL"
   ]
  },
  {
   "cell_type": "code",
   "execution_count": 6,
   "metadata": {},
   "outputs": [],
   "source": [
    "# Create a table for the reviews\n",
    "#done in SQL"
   ]
  },
  {
   "cell_type": "markdown",
   "metadata": {},
   "source": [
    "## Part 3 - Create ETL pipeline for the business data from the API\n",
    "\n",
    "Now that you know what data you need from the API, you want to write code that will execute a api call, parse those results and then insert the results into the DB.  \n",
    "\n",
    "It is helpful to break this up into three different functions (*api call, parse results, and insert into DB*) and then you can write a function/script that pull the other three functions together. \n",
    "\n",
    "Let's first do this for the Business endpoint."
   ]
  },
  {
   "cell_type": "code",
   "execution_count": 7,
   "metadata": {},
   "outputs": [],
   "source": [
    " #MY YELP APP INFO\n",
    "\n",
    "# Client ID - 'd31wiC8swpcod_WEbvT7ew'\n",
    "\n",
    "api_key = 'Fi9YM7w1buyiE4HRcOjM6ocNL09YAUnALRfrk6TDVAlJfMu1GQW0Dr_H79RRoSDP0T659WFccMzlNVWgq1qqL3w93NaG_ebGuW3gKsRek99el_RkrXl-wxBG9jbpXXYx'"
   ]
  },
  {
   "cell_type": "code",
   "execution_count": 8,
   "metadata": {},
   "outputs": [],
   "source": [
    "#insert API url\n",
    "url = 'https://api.yelp.com/v3/businesses/search'\n",
    "\n",
    "# what type of business do you want to search\n",
    "term = 'Cocktail Bars'\n",
    "\n",
    "#where do you want to perform this search\n",
    "location = \"7604 3rd Ave Brooklyn NY, 11209\"\n",
    "\n",
    "# what is your other parameter you want to search against\n",
    "\n",
    "#update: headers are providing the api Authorization as required by source site.\n",
    "\n",
    "headers = {\n",
    "        'Authorization': 'Bearer {}'.format(api_key),\n",
    "    }\n",
    "\n",
    "url_params = {  'term': term.replace(' ', '+'),\n",
    "                'location': location.replace(' ', '+'),\n",
    "                 'limit' : 50}\n"
   ]
  },
  {
   "cell_type": "code",
   "execution_count": 9,
   "metadata": {},
   "outputs": [],
   "source": [
    "# Write a function to make a call to the yelp business API\n",
    "\n",
    "def yelp_call(url, headers, params):\n",
    "    data = requests.get(url, headers = headers, params =url_params)\n",
    "    # your code to make the yelp call\n",
    "    return data\n"
   ]
  },
  {
   "cell_type": "code",
   "execution_count": 10,
   "metadata": {},
   "outputs": [
    {
     "data": {
      "text/plain": [
       "228"
      ]
     },
     "execution_count": 10,
     "metadata": {},
     "output_type": "execute_result"
    }
   ],
   "source": [
    "response = yelp_call(url, headers, url_params)\n",
    "business = json.loads(response.text)\n",
    "business['total']"
   ]
  },
  {
   "cell_type": "code",
   "execution_count": 11,
   "metadata": {},
   "outputs": [],
   "source": [
    "# Write a function to make a call to the yelp review API\n",
    "\n",
    "def review_call(url, headers):\n",
    "    review_data = requests.get(url, headers = headers)\n",
    "    # your code to make the yelp call\n",
    "    return review_data"
   ]
  },
  {
   "cell_type": "code",
   "execution_count": 12,
   "metadata": {},
   "outputs": [],
   "source": [
    "#  \"TO DELETE??????\"\n",
    "# def multi_review_call(url, headers,url_list):\n",
    "#     multi_review = list(map(review_call(url_list, headers), url_list))\n",
    "    "
   ]
  },
  {
   "cell_type": "code",
   "execution_count": 13,
   "metadata": {},
   "outputs": [
    {
     "data": {
      "text/plain": [
       "{'reviews': [{'id': 'tQT_dSem1fL1_5XuVyW7PQ',\n",
       "   'url': 'https://www.yelp.com/biz/matter-brooklyn-2?adjust_creative=d31wiC8swpcod_WEbvT7ew&hrid=tQT_dSem1fL1_5XuVyW7PQ&utm_campaign=yelp_api_v3&utm_medium=api_v3_business_reviews&utm_source=d31wiC8swpcod_WEbvT7ew',\n",
       "   'text': 'First of all special shoutout to the bartender, Omar is the man!!! \\n\\nSo my friend and I wanted to grad some delicious cocktails and food in bay ridge. THIS...',\n",
       "   'rating': 5,\n",
       "   'time_created': '2019-11-09 05:39:54',\n",
       "   'user': {'id': 'HD4XFPQKBpu1PoQrcRuvcw',\n",
       "    'profile_url': 'https://www.yelp.com/user_details?userid=HD4XFPQKBpu1PoQrcRuvcw',\n",
       "    'image_url': 'https://s3-media2.fl.yelpcdn.com/photo/V69dokmzyHIE5i-GSkR-sA/o.jpg',\n",
       "    'name': 'Siri C.'}},\n",
       "  {'id': 'KHzeG8qU9w0RRUe4IHA6LA',\n",
       "   'url': 'https://www.yelp.com/biz/matter-brooklyn-2?adjust_creative=d31wiC8swpcod_WEbvT7ew&hrid=KHzeG8qU9w0RRUe4IHA6LA&utm_campaign=yelp_api_v3&utm_medium=api_v3_business_reviews&utm_source=d31wiC8swpcod_WEbvT7ew',\n",
       "   'text': 'I went here to try the cocktails. They were great! They were very creative and tasty. I had 3 cocktails and they were pretty strong. I loved the vibe of the...',\n",
       "   'rating': 4,\n",
       "   'time_created': '2019-11-03 21:29:54',\n",
       "   'user': {'id': '0NBqEEaT71jX12vY64AsSw',\n",
       "    'profile_url': 'https://www.yelp.com/user_details?userid=0NBqEEaT71jX12vY64AsSw',\n",
       "    'image_url': 'https://s3-media1.fl.yelpcdn.com/photo/alXWoGKEnkOKxifwLPtgoA/o.jpg',\n",
       "    'name': 'Bklynzizi P.'}},\n",
       "  {'id': 'Cz4cKYpedLlR_IDvuVoqRQ',\n",
       "   'url': 'https://www.yelp.com/biz/matter-brooklyn-2?adjust_creative=d31wiC8swpcod_WEbvT7ew&hrid=Cz4cKYpedLlR_IDvuVoqRQ&utm_campaign=yelp_api_v3&utm_medium=api_v3_business_reviews&utm_source=d31wiC8swpcod_WEbvT7ew',\n",
       "   'text': 'So the first time I came here for \"brunch\" with my boyfriend was a holiday Monday.  I assumed they would have a brunch menu offered, but nope.  Not the...',\n",
       "   'rating': 2,\n",
       "   'time_created': '2019-10-07 07:58:31',\n",
       "   'user': {'id': 'NqLVaAjnmHdNKqd7SUcndg',\n",
       "    'profile_url': 'https://www.yelp.com/user_details?userid=NqLVaAjnmHdNKqd7SUcndg',\n",
       "    'image_url': 'https://s3-media3.fl.yelpcdn.com/photo/kiExGv9AlN7ACJfMHRoSEQ/o.jpg',\n",
       "    'name': 'Alyssa D.'}}],\n",
       " 'total': 96,\n",
       " 'possible_languages': ['en']}"
      ]
     },
     "execution_count": 13,
     "metadata": {},
     "output_type": "execute_result"
    }
   ],
   "source": [
    "one_review = review_call('https://api.yelp.com/v3/businesses/zFt9LNoKaVVc3kOWHEaVgw/reviews', headers)\n",
    "new_obj = json.loads(one_review.text)\n",
    "new_obj"
   ]
  },
  {
   "cell_type": "code",
   "execution_count": 14,
   "metadata": {},
   "outputs": [],
   "source": [
    "# mapping review_call with the iterable, the url list called review_url\n",
    "\n",
    "# I don't think we need to list the mapped function, just perform the function\n",
    "\n",
    "\n",
    "#list(map(review_call(review_url, headers), review_url))      # Do we need to store the mapped function to a variable to call later?  "
   ]
  },
  {
   "cell_type": "code",
   "execution_count": 15,
   "metadata": {},
   "outputs": [],
   "source": [
    "#Write a function to parse out the relevant information from the reviews\n",
    "\n"
   ]
  },
  {
   "cell_type": "code",
   "execution_count": 16,
   "metadata": {},
   "outputs": [],
   "source": [
    "# Combine the two functions into a single script."
   ]
  },
  {
   "cell_type": "code",
   "execution_count": 17,
   "metadata": {},
   "outputs": [
    {
     "data": {
      "text/plain": [
       "['https://api.yelp.com/v3/businesses/zFt9LNoKaVVc3kOWHEaVgw/reviews',\n",
       " 'https://api.yelp.com/v3/businesses/2o3xF6DnHDfZ3k1mPioh4A/reviews',\n",
       " 'https://api.yelp.com/v3/businesses/FXD22Sgwg1bbeNk-kuYeig/reviews',\n",
       " 'https://api.yelp.com/v3/businesses/nZ0Y8ngCxpY3xlz4f4pNTQ/reviews',\n",
       " 'https://api.yelp.com/v3/businesses/AbDiDY7kYDSldaKbGpoSlg/reviews',\n",
       " 'https://api.yelp.com/v3/businesses/uuHujhrkVQdS8XVSGWW2mA/reviews',\n",
       " 'https://api.yelp.com/v3/businesses/VP_HZr_j0dXKd80lUBfsyg/reviews',\n",
       " 'https://api.yelp.com/v3/businesses/Xiqf_VUWZeoAo7c2kfEiXw/reviews',\n",
       " 'https://api.yelp.com/v3/businesses/PY-v9ObQWyS1Oiz89IUfEw/reviews',\n",
       " 'https://api.yelp.com/v3/businesses/HzJBBKuBGWdRHMfNW0Ve0w/reviews',\n",
       " 'https://api.yelp.com/v3/businesses/v3O_QyIVp5ZthiFgBzoEOA/reviews',\n",
       " 'https://api.yelp.com/v3/businesses/2MfnOT7FxGddy0dydHTrGA/reviews',\n",
       " 'https://api.yelp.com/v3/businesses/az4tZj2pFMBCy-X84cQXxA/reviews',\n",
       " 'https://api.yelp.com/v3/businesses/mY_dEQM9poopjV0y4Hvnww/reviews',\n",
       " 'https://api.yelp.com/v3/businesses/_5dovFoqS-xKkjSUTcIDVg/reviews',\n",
       " 'https://api.yelp.com/v3/businesses/MKMx5TAmzXfjgLdXgu6FVQ/reviews',\n",
       " 'https://api.yelp.com/v3/businesses/L3HDotnnzGKZfoy62kZAkg/reviews',\n",
       " 'https://api.yelp.com/v3/businesses/_-89MKTICre2Gj6Mq-qhDA/reviews',\n",
       " 'https://api.yelp.com/v3/businesses/U3d5QB5a8Q37Csj7L1aBXA/reviews',\n",
       " 'https://api.yelp.com/v3/businesses/Y6FMtiM2Q3CwcuxI0E4USQ/reviews',\n",
       " 'https://api.yelp.com/v3/businesses/g3FOPlO-Gp0J4HfjurW74Q/reviews',\n",
       " 'https://api.yelp.com/v3/businesses/l_jZX0IQqHzCwC_7KcKS7A/reviews',\n",
       " 'https://api.yelp.com/v3/businesses/4CheGhBNFK8KBbsVEhYJKA/reviews',\n",
       " 'https://api.yelp.com/v3/businesses/xvqG8x-EMcUysuOzY7RsPg/reviews',\n",
       " 'https://api.yelp.com/v3/businesses/qh8zROULNPGh23ZoFVZAZg/reviews',\n",
       " 'https://api.yelp.com/v3/businesses/YjD9sNbooHMHpvjDzc89rA/reviews',\n",
       " 'https://api.yelp.com/v3/businesses/HhXM_ZKngz5oY6Hhjo8MqA/reviews',\n",
       " 'https://api.yelp.com/v3/businesses/t-UTPqMlFI36XIvNPBVdEQ/reviews',\n",
       " 'https://api.yelp.com/v3/businesses/5f3M0k7mTjrKoQFJW-PFzg/reviews',\n",
       " 'https://api.yelp.com/v3/businesses/ZtCD7e_LlW-pwEUY6bvusQ/reviews',\n",
       " 'https://api.yelp.com/v3/businesses/_M5FVY4hkcuU-ASdVZPfRQ/reviews',\n",
       " 'https://api.yelp.com/v3/businesses/rbcTKkA_sn4FG7Oo8vrIWA/reviews',\n",
       " 'https://api.yelp.com/v3/businesses/gY6aPkUcyltomwF6FrR9gw/reviews',\n",
       " 'https://api.yelp.com/v3/businesses/su27bl6tqjh2ucbMc1FuvA/reviews',\n",
       " 'https://api.yelp.com/v3/businesses/QS7LomUJFfx9LufSx4RVvQ/reviews',\n",
       " 'https://api.yelp.com/v3/businesses/v4cXt2qe9pq_XWJflL5ISg/reviews',\n",
       " 'https://api.yelp.com/v3/businesses/bEadv-XnsYa5IaBD_VcHfA/reviews',\n",
       " 'https://api.yelp.com/v3/businesses/Zwrf1_mSetFmO-Z49bRDbA/reviews',\n",
       " 'https://api.yelp.com/v3/businesses/HmdGSeQbK2vI3Vp7xfcIrg/reviews',\n",
       " 'https://api.yelp.com/v3/businesses/0O0DV4tKQkp2lS2wGcg_7A/reviews',\n",
       " 'https://api.yelp.com/v3/businesses/76B7-T4f1EdsQsoI0NM9Wg/reviews',\n",
       " 'https://api.yelp.com/v3/businesses/8u9HZbzpry_cg8-8FBEKvA/reviews',\n",
       " 'https://api.yelp.com/v3/businesses/X4YuMX1KgFxIc3pNkRDBZA/reviews',\n",
       " 'https://api.yelp.com/v3/businesses/2ClkHmHOG_m5EuHTt-l_Ig/reviews',\n",
       " 'https://api.yelp.com/v3/businesses/__8z_m88GNHbkvJAgUYWBw/reviews',\n",
       " 'https://api.yelp.com/v3/businesses/GimProZnHbVWu8MbV__s4w/reviews',\n",
       " 'https://api.yelp.com/v3/businesses/uBxSYU7JMsqI_9iMP0kl2Q/reviews',\n",
       " 'https://api.yelp.com/v3/businesses/KWIPsr4kQBLIpPTSwKTlig/reviews',\n",
       " 'https://api.yelp.com/v3/businesses/1jWYg-iLBqJSypEJvsxTGw/reviews',\n",
       " 'https://api.yelp.com/v3/businesses/46gT-bvsj5sXDMLAAcybzQ/reviews']"
      ]
     },
     "execution_count": 17,
     "metadata": {},
     "output_type": "execute_result"
    }
   ],
   "source": [
    "#def yelp_review_call():\n",
    "business_id = []\n",
    "for i in business['businesses']:\n",
    "    business_id.append(i['id'])\n",
    "    \n",
    "review_url = []\n",
    "for i in business_id:\n",
    "    review_url.append(f'https://api.yelp.com/v3/businesses/{i}/reviews' )  # how to get each api as the request in yelp_call rework for reviews\n",
    "    \n",
    "review_url"
   ]
  },
  {
   "cell_type": "code",
   "execution_count": 18,
   "metadata": {},
   "outputs": [],
   "source": [
    "# write a function to parse the API response \n",
    "def parse_results(stuff):\n",
    "   \n",
    "    parsed_business = []\n",
    "    for items in stuff:\n",
    "        try:\n",
    "            parsed_tuple = (items['id'], items['name'],' '.join(items['location']['display_address']), items['rating'],\n",
    "                        items['review_count'], len(items['price']))\n",
    "            parsed_business.append(parsed_tuple)\n",
    "        except: \n",
    "            parsed_tuple = (items['id'], items['name'],' '.join(items['location']['display_address']), items['rating']\n",
    "                        ,items['review_count'], 0)\n",
    "            parsed_business.append(parsed_tuple)\n",
    "    return parsed_business\n",
    "    \n",
    "\n",
    "# so that you can easily insert the data in to the DB"
   ]
  },
  {
   "cell_type": "code",
   "execution_count": 19,
   "metadata": {},
   "outputs": [],
   "source": [
    "# Write a function to take your parsed data and insert it into the DB\n",
    "\n",
    "def db_insert(cnx, c, parsed_results):\n",
    "    # your code to insert and commit the results\n",
    "    c.executemany(\"\"\"INSERT INTO yelp (id, name, location, rating, review_count, price)\n",
    "               VALUES(%s, %s, %s, %s, %s, %s)\"\"\", parsed_results)\n",
    "    cnx.commit()\n"
   ]
  },
  {
   "cell_type": "code",
   "execution_count": 20,
   "metadata": {
    "collapsed": true,
    "jupyter": {
     "outputs_hidden": true
    }
   },
   "outputs": [
    {
     "ename": "NameError",
     "evalue": "name 'num' is not defined",
     "output_type": "error",
     "traceback": [
      "\u001b[0;31m---------------------------------------------------------------------------\u001b[0m",
      "\u001b[0;31mNameError\u001b[0m                                 Traceback (most recent call last)",
      "\u001b[0;32m<ipython-input-20-88078533852e>\u001b[0m in \u001b[0;36m<module>\u001b[0;34m\u001b[0m\n\u001b[1;32m      5\u001b[0m \u001b[0;34m\u001b[0m\u001b[0m\n\u001b[1;32m      6\u001b[0m \u001b[0;31m#set up a while loop to go through and grab the result\u001b[0m\u001b[0;34m\u001b[0m\u001b[0;34m\u001b[0m\u001b[0;34m\u001b[0m\u001b[0m\n\u001b[0;32m----> 7\u001b[0;31m \u001b[0;32mwhile\u001b[0m \u001b[0mcur\u001b[0m \u001b[0;34m<\u001b[0m \u001b[0mnum\u001b[0m \u001b[0;32mand\u001b[0m \u001b[0mcur\u001b[0m \u001b[0;34m<\u001b[0m \u001b[0;36m228\u001b[0m\u001b[0;34m:\u001b[0m \u001b[0;31m#set num to total num of results\u001b[0m\u001b[0;34m\u001b[0m\u001b[0;34m\u001b[0m\u001b[0m\n\u001b[0m\u001b[1;32m      8\u001b[0m     \u001b[0;31m#set the offset parameter to be where you currently are in the results\u001b[0m\u001b[0;34m\u001b[0m\u001b[0;34m\u001b[0m\u001b[0;34m\u001b[0m\u001b[0m\n\u001b[1;32m      9\u001b[0m     \u001b[0murl_params\u001b[0m\u001b[0;34m[\u001b[0m\u001b[0;34m'offset'\u001b[0m\u001b[0;34m]\u001b[0m \u001b[0;34m=\u001b[0m \u001b[0mcur\u001b[0m\u001b[0;34m\u001b[0m\u001b[0;34m\u001b[0m\u001b[0m\n",
      "\u001b[0;31mNameError\u001b[0m: name 'num' is not defined"
     ]
    }
   ],
   "source": [
    "# Write a script that combines the three functions above into a single process.\n",
    "\n",
    "# create a variable  to keep track of which result you are in. \n",
    "cur = 0\n",
    "\n",
    "#set up a while loop to go through and grab the result \n",
    "while cur < num and cur < 228: #set num to total num of results\n",
    "    #set the offset parameter to be where you currently are in the results \n",
    "    url_params['offset'] = cur\n",
    "    #make your API call with the new offset number\n",
    "    results = yelp_call(url_params, api_key)\n",
    "    \n",
    "    #after you get your results you can now use your function to parse those results\n",
    "    parsed_results = parse_results(results)\n",
    "    \n",
    "    # use your function to insert your parsed results into the db\n",
    "    db_insert(parsed_results)\n",
    "    #increment the counter by 50 to move on to the next results\n",
    "    cur += 50\n",
    "\n"
   ]
  },
  {
   "cell_type": "markdown",
   "metadata": {},
   "source": [
    "## Part 4 -  Create ETL pipeline for the restaurant review data from the API\n",
    "\n",
    "You've done this for the Businesses, now you need to do this for reviews. You will follow the same process, but your functions will be specific to reviews."
   ]
  },
  {
   "cell_type": "code",
   "execution_count": null,
   "metadata": {},
   "outputs": [],
   "source": [
    "# write a SQL query to pull back all of the business ids \n",
    "# you will need these ids to pull back the reviews for each restaurant"
   ]
  },
  {
   "cell_type": "code",
   "execution_count": null,
   "metadata": {},
   "outputs": [],
   "source": [
    "# write a function that takes a business id \n",
    "# and makes a call to the API for reivews\n"
   ]
  },
  {
   "cell_type": "code",
   "execution_count": null,
   "metadata": {},
   "outputs": [],
   "source": [
    "# Write a function to parse out the relevant information from the reviews"
   ]
  },
  {
   "cell_type": "code",
   "execution_count": null,
   "metadata": {},
   "outputs": [],
   "source": [
    "# write a function to insert the parsed data into the reviews table"
   ]
  },
  {
   "cell_type": "code",
   "execution_count": null,
   "metadata": {},
   "outputs": [],
   "source": [
    "# combine the functions above into a single script  "
   ]
  },
  {
   "cell_type": "markdown",
   "metadata": {},
   "source": [
    "## Part 5 -  Write SQL queries that will answer the questions posed. \n",
    "\n",
    "Now that your data is in the DB, you can answer the questions. Write SQL querires that will answer the questions. **Do not use Pandas in this lab**"
   ]
  },
  {
   "cell_type": "code",
   "execution_count": null,
   "metadata": {},
   "outputs": [],
   "source": [
    "# create connection"
   ]
  },
  {
   "cell_type": "code",
   "execution_count": null,
   "metadata": {},
   "outputs": [],
   "source": [
    "# execute SQL queries"
   ]
  },
  {
   "cell_type": "code",
   "execution_count": null,
   "metadata": {},
   "outputs": [],
   "source": []
  },
  {
   "cell_type": "markdown",
   "metadata": {},
   "source": [
    "# Extra Reference help"
   ]
  },
  {
   "cell_type": "markdown",
   "metadata": {},
   "source": [
    "###  Pagination\n",
    "\n",
    "Returning to the Yelp API, the [documentation](https://www.yelp.com/developers/documentation/v3/business_search) also provides us details regarding the API limits. These often include details about the number of requests a user is allowed to make within a specified time limit and the maximum number of results to be returned. In this case, we are told that any request has a maximum of 50 results per request and defaults to 20. Furthermore, any search will be limited to a total of 1000 results. To retrieve all 1000 of these results, we would have to page through the results piece by piece, retriving 50 at a time. Processes such as these are often refered to as pagination.\n",
    "\n",
    "Now that you have an initial response, you can examine the contents of the json container. For example, you might start with ```response.json().keys()```. Here, you'll see a key for `'total'`, which tells you the full number of matching results given your query parameters. Write a loop (or ideally a function) which then makes successive API calls using the offset parameter to retrieve all of the results (or 5000 for a particularly large result set) for the original query. As you do this, be mindful of how you store the data. \n",
    "\n",
    "**Note: be mindful of the API rate limits. You can only make 5000 requests per day, and APIs can make requests too fast. Start prototyping small before running a loop that could be faulty. You can also use time.sleep(n) to add delays. For more details see https://www.yelp.com/developers/documentation/v3/rate_limiting.**"
   ]
  },
  {
   "cell_type": "markdown",
   "metadata": {},
   "source": [
    "***Below is sample code that you can use to help you deal with the pagination parameter and bring all of the functions together.***\n",
    "\n",
    "\n",
    "***Also, something might cause your code to break while it is running. You don't want to constantly repull the same data when this happens, so you should insert the data into the database as you call and parse it, not after you have all of the data***\n"
   ]
  },
  {
   "cell_type": "code",
   "execution_count": null,
   "metadata": {},
   "outputs": [],
   "source": [
    "def yelp_call(url_params, api_key):\n",
    "    # your code to make the yelp call\n",
    "    return data"
   ]
  },
  {
   "cell_type": "code",
   "execution_count": null,
   "metadata": {},
   "outputs": [],
   "source": [
    "def parse_results(results):\n",
    "    # your code to parse the result to make them easier to insert into the DB\n",
    "    return parsed_results"
   ]
  },
  {
   "cell_type": "code",
   "execution_count": null,
   "metadata": {},
   "outputs": [],
   "source": [
    "def db_insert(cnx, cursor, parsed results):\n",
    "    # your code to insert and commit the results\n",
    "    # I would create the connection and cursor outside of this function and then pass it through"
   ]
  },
  {
   "cell_type": "code",
   "execution_count": null,
   "metadata": {},
   "outputs": [],
   "source": [
    "# create a variable  to keep track of which result you are in. \n",
    "cur = 0\n",
    "\n",
    "#set up a while loop to go through and grab the result \n",
    "while cur < num and cur < 1000: #set num to total num of results\n",
    "    #set the offset parameter to be where you currently are in the results \n",
    "    url_params['offset'] = cur\n",
    "    #make your API call with the new offset number\n",
    "    results = yelp_call(url_params, api_key)\n",
    "    \n",
    "    #after you get your results you can now use your function to parse those results\n",
    "    parsed_results = parse_results(results)\n",
    "    \n",
    "    # use your function to insert your parsed results into the db\n",
    "    db_insert(parsed_results)\n",
    "    #increment the counter by 50 to move on to the next results\n",
    "    cur += 50"
   ]
  },
  {
   "cell_type": "code",
   "execution_count": null,
   "metadata": {},
   "outputs": [],
   "source": []
  }
 ],
 "metadata": {
  "kernelspec": {
   "display_name": "Python 3",
   "language": "python",
   "name": "python3"
  },
  "language_info": {
   "codemirror_mode": {
    "name": "ipython",
    "version": 3
   },
   "file_extension": ".py",
   "mimetype": "text/x-python",
   "name": "python",
   "nbconvert_exporter": "python",
   "pygments_lexer": "ipython3",
   "version": "3.7.4"
  },
  "toc": {
   "base_numbering": 1,
   "nav_menu": {},
   "number_sections": false,
   "sideBar": true,
   "skip_h1_title": false,
   "title_cell": "Table of Contents",
   "title_sidebar": "Contents",
   "toc_cell": false,
   "toc_position": {},
   "toc_section_display": true,
   "toc_window_display": false
  }
 },
 "nbformat": 4,
 "nbformat_minor": 4
}
